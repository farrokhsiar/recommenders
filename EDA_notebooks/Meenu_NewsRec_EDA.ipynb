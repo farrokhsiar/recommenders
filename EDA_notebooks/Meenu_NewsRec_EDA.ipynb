{
  "cells": [
    {
      "cell_type": "code",
      "execution_count": 141,
      "metadata": {
        "gather": {
          "logged": 1675631584462
        },
        "id": "R8Yah6J6GN-b"
      },
      "outputs": [],
      "source": [
        "import os\n",
        "import tempfile\n",
        "import shutil\n",
        "import urllib\n",
        "import zipfile\n",
        "import pandas as pd\n",
        "import statistics\n",
        "import numpy as np"
      ]
    },
    {
      "cell_type": "markdown",
      "metadata": {
        "nteract": {
          "transient": {
            "deleting": false
          }
        }
      },
      "source": [
        "# Download and Load Data"
      ]
    },
    {
      "cell_type": "code",
      "execution_count": 150,
      "metadata": {
        "jupyter": {
          "outputs_hidden": false,
          "source_hidden": false
        },
        "nteract": {
          "transient": {
            "deleting": false
          }
        }
      },
      "outputs": [],
      "source": [
        "# Temporary folder for data we need during execution of this notebook (we'll clean up\n",
        "# at the end, we promise)\n",
        "#temp_dir = os.path.join(tempfile.gettempdir(), 'mind')\n",
        "temp_dir = \"/home/azureuser/cloudfiles/code/Users/lab164/recommenders/data\"\n",
        "os.makedirs(temp_dir, exist_ok=True)\n",
        "\n",
        "# The dataset is split into training and validation set, each with a large and small version.\n",
        "# The format of the four files are the same.\n",
        "# For demonstration purpose, we will use small version validation set only.\n",
        "base_url = 'https://mind201910small.blob.core.windows.net/release'\n",
        "training_small_url = f'{base_url}/MINDsmall_train.zip'\n",
        "validation_small_url = f'{base_url}/MINDsmall_dev.zip'\n",
        "training_large_url = f'{base_url}/MINDlarge_train.zip'\n",
        "validation_large_url = f'{base_url}/MINDlarge_dev.zip'"
      ]
    },
    {
      "cell_type": "code",
      "execution_count": 151,
      "metadata": {
        "gather": {
          "logged": 1675631587974
        },
        "id": "kXPAr_dmJ-s7"
      },
      "outputs": [],
      "source": [
        "def download_url(url,\n",
        "                 destination_filename=None,\n",
        "                 progress_updater=None,\n",
        "                 force_download=False,\n",
        "                 verbose=True):\n",
        "    \"\"\"\n",
        "    Download a URL to a temporary file\n",
        "    \"\"\"\n",
        "    if not verbose:\n",
        "        progress_updater = None\n",
        "    # This is not intended to guarantee uniqueness, we just know it happens to guarantee\n",
        "    # uniqueness for this application.\n",
        "    if destination_filename is None:\n",
        "        url_as_filename = url.replace('://', '_').replace('/', '_')\n",
        "        destination_filename = \\\n",
        "            os.path.join(temp_dir,url_as_filename)\n",
        "    if (not force_download) and (os.path.isfile(destination_filename)):\n",
        "        if verbose:\n",
        "            print('Bypassing download of already-downloaded file {}'.format(\n",
        "                os.path.basename(url)))\n",
        "        return destination_filename\n",
        "    if verbose:\n",
        "        print('Downloading file {} to {}'.format(os.path.basename(url),\n",
        "                                                 destination_filename),\n",
        "              end='')\n",
        "    urllib.request.urlretrieve(url, destination_filename, progress_updater)\n",
        "    assert (os.path.isfile(destination_filename))\n",
        "    nBytes = os.path.getsize(destination_filename)\n",
        "    if verbose:\n",
        "        print('...done, {} bytes.'.format(nBytes))\n",
        "    return destination_filename"
      ]
    },
    {
      "cell_type": "code",
      "execution_count": 154,
      "metadata": {},
      "outputs": [
        {
          "name": "stdout",
          "output_type": "stream",
          "text": [
            "Downloading file MINDlarge_train.zip to /home/azureuser/cloudfiles/code/Users/lab164/recommenders/data/https_mind201910small.blob.core.windows.net_release_MINDlarge_train.zip...done, 530196631 bytes.\n"
          ]
        },
        {
          "data": {
            "text/plain": [
              "['behaviors.tsv',\n",
              " 'entity_embedding.vec',\n",
              " 'filtered_data',\n",
              " 'https_mind201910small.blob.core.windows.net_release_MINDlarge_dev.zip',\n",
              " 'https_mind201910small.blob.core.windows.net_release_MINDlarge_train.zip',\n",
              " 'news.tsv',\n",
              " 'relation_embedding.vec',\n",
              " 'train',\n",
              " 'utils',\n",
              " 'valid',\n",
              " '__placeholder__']"
            ]
          },
          "execution_count": 154,
          "metadata": {},
          "output_type": "execute_result"
        }
      ],
      "source": [
        "# For demonstration purpose, we will use small version validation set only.\n",
        "# This file is about 30MB.\n",
        "zip_path = download_url(training_large_url, verbose=True)\n",
        "with zipfile.ZipFile(zip_path, 'r') as zip_ref:\n",
        "    zip_ref.extractall(temp_dir)\n",
        "\n",
        "os.listdir(temp_dir)"
      ]
    },
    {
      "cell_type": "code",
      "execution_count": 152,
      "metadata": {
        "colab": {
          "base_uri": "https://localhost:8080/"
        },
        "gather": {
          "logged": 1675631602320
        },
        "id": "M_qptxlkKHmF",
        "outputId": "5ac3839d-4af2-41ef-da57-ab75c25cbb78"
      },
      "outputs": [
        {
          "name": "stdout",
          "output_type": "stream",
          "text": [
            "Downloading file MINDlarge_dev.zip to /home/azureuser/cloudfiles/code/Users/lab164/recommenders/data/https_mind201910small.blob.core.windows.net_release_MINDlarge_dev.zip...done, 103456245 bytes.\n"
          ]
        }
      ],
      "source": [
        "# For demonstration purpose, we will use small version validation set only.\n",
        "# This file is about 30MB.\n",
        "zip_path = download_url(validation_large_url, verbose=True)\n",
        "with zipfile.ZipFile(zip_path, 'r') as zip_ref:\n",
        "    zip_ref.extractall(temp_dir)\n",
        "\n",
        "os.listdir(temp_dir)"
      ]
    },
    {
      "cell_type": "markdown",
      "metadata": {
        "nteract": {
          "transient": {
            "deleting": false
          }
        }
      },
      "source": [
        "### Behaviours EDA"
      ]
    },
    {
      "cell_type": "code",
      "execution_count": 184,
      "metadata": {
        "colab": {
          "base_uri": "https://localhost:8080/",
          "height": 424
        },
        "gather": {
          "logged": 1675632640177
        },
        "id": "2UPXxcFMKLQu",
        "outputId": "e08ce70a-736b-464d-c3ba-948af93ffe9e"
      },
      "outputs": [
        {
          "data": {
            "text/html": [
              "<div>\n",
              "<style scoped>\n",
              "    .dataframe tbody tr th:only-of-type {\n",
              "        vertical-align: middle;\n",
              "    }\n",
              "\n",
              "    .dataframe tbody tr th {\n",
              "        vertical-align: top;\n",
              "    }\n",
              "\n",
              "    .dataframe thead th {\n",
              "        text-align: right;\n",
              "    }\n",
              "</style>\n",
              "<table border=\"1\" class=\"dataframe\">\n",
              "  <thead>\n",
              "    <tr style=\"text-align: right;\">\n",
              "      <th></th>\n",
              "      <th>impression_id</th>\n",
              "      <th>user_id</th>\n",
              "      <th>time</th>\n",
              "      <th>history</th>\n",
              "      <th>impressions</th>\n",
              "    </tr>\n",
              "  </thead>\n",
              "  <tbody>\n",
              "    <tr>\n",
              "      <th>0</th>\n",
              "      <td>1</td>\n",
              "      <td>U82271</td>\n",
              "      <td>11/11/2019 3:28:58 PM</td>\n",
              "      <td>N3130 N11621 N12917 N4574 N12140 N9748</td>\n",
              "      <td>N13390-0 N7180-0 N20785-0 N6937-0 N15776-0 N25...</td>\n",
              "    </tr>\n",
              "    <tr>\n",
              "      <th>1</th>\n",
              "      <td>2</td>\n",
              "      <td>U84185</td>\n",
              "      <td>11/12/2019 10:36:47 AM</td>\n",
              "      <td>N27209 N11723 N4617 N12320 N11333 N24461 N2211...</td>\n",
              "      <td>N13089-0 N18101-0 N1248-0 N26273-0 N12770-1 N1...</td>\n",
              "    </tr>\n",
              "    <tr>\n",
              "      <th>2</th>\n",
              "      <td>3</td>\n",
              "      <td>U11552</td>\n",
              "      <td>11/11/2019 1:03:52 PM</td>\n",
              "      <td>N2139</td>\n",
              "      <td>N18390-0 N10537-0 N23967-1</td>\n",
              "    </tr>\n",
              "    <tr>\n",
              "      <th>3</th>\n",
              "      <td>4</td>\n",
              "      <td>U68381</td>\n",
              "      <td>11/11/2019 6:44:05 AM</td>\n",
              "      <td>N27420 N11621 N25416 N25457 N5124 N11751 N1175...</td>\n",
              "      <td>N15660-0 N18609-0 N2831-0 N5677-0 N19010-0 N15...</td>\n",
              "    </tr>\n",
              "    <tr>\n",
              "      <th>4</th>\n",
              "      <td>5</td>\n",
              "      <td>U52303</td>\n",
              "      <td>11/12/2019 3:11:52 AM</td>\n",
              "      <td>N1332 N12667</td>\n",
              "      <td>N15645-0 N7911-1</td>\n",
              "    </tr>\n",
              "  </tbody>\n",
              "</table>\n",
              "</div>"
            ],
            "text/plain": [
              "   impression_id user_id                    time  \\\n",
              "0              1  U82271   11/11/2019 3:28:58 PM   \n",
              "1              2  U84185  11/12/2019 10:36:47 AM   \n",
              "2              3  U11552   11/11/2019 1:03:52 PM   \n",
              "3              4  U68381   11/11/2019 6:44:05 AM   \n",
              "4              5  U52303   11/12/2019 3:11:52 AM   \n",
              "\n",
              "                                             history  \\\n",
              "0             N3130 N11621 N12917 N4574 N12140 N9748   \n",
              "1  N27209 N11723 N4617 N12320 N11333 N24461 N2211...   \n",
              "2                                              N2139   \n",
              "3  N27420 N11621 N25416 N25457 N5124 N11751 N1175...   \n",
              "4                                       N1332 N12667   \n",
              "\n",
              "                                         impressions  \n",
              "0  N13390-0 N7180-0 N20785-0 N6937-0 N15776-0 N25...  \n",
              "1  N13089-0 N18101-0 N1248-0 N26273-0 N12770-1 N1...  \n",
              "2                         N18390-0 N10537-0 N23967-1  \n",
              "3  N15660-0 N18609-0 N2831-0 N5677-0 N19010-0 N15...  \n",
              "4                                   N15645-0 N7911-1  "
            ]
          },
          "execution_count": 184,
          "metadata": {},
          "output_type": "execute_result"
        }
      ],
      "source": [
        "# The behaviors.tsv file contains the impression logs and users' news click histories. \n",
        "# It has 5 columns divided by the tab symbol:\n",
        "# - Impression ID. The ID of an impression.\n",
        "# - User ID. The anonymous ID of a user.\n",
        "# - Time. The impression time with format \"MM/DD/YYYY HH:MM:SS AM/PM\".\n",
        "# - History. The news click history (ID list of clicked news) of this user before this impression.\n",
        "# - Impressions. List of news displayed in this impression and user's click behaviors on them (1 for click and 0 for non-click).\n",
        "\n",
        "\n",
        "temp_dir=\"/home/azureuser/cloudfiles/code/Users/lab164/recommenders/data/train\"\n",
        "behaviors_path = os.path.join(temp_dir, 'behaviors.tsv')\n",
        "\n",
        "raw_behaviour=pd.read_table(\n",
        "    behaviors_path,\n",
        "    header=None,\n",
        "    names=['impression_id', 'user_id', 'time', 'history', 'impressions'])\n",
        "\n",
        "raw_behaviour.head()\n"
      ]
    },
    {
      "cell_type": "code",
      "execution_count": 185,
      "metadata": {
        "gather": {
          "logged": 1675632736873
        },
        "jupyter": {
          "outputs_hidden": false,
          "source_hidden": false
        },
        "nteract": {
          "transient": {
            "deleting": false
          }
        }
      },
      "outputs": [
        {
          "name": "stdout",
          "output_type": "stream",
          "text": [
            "The dataset consist of 22034 number of interactions.\n",
            "We have 5000 unique users in the dataset\n"
          ]
        }
      ],
      "source": [
        "print(f\"The dataset consist of {len(raw_behaviour)} number of interactions.\")\n",
        "\n",
        "## Indexize users\n",
        "unique_userIds = raw_behaviour['user_id'].unique()\n",
        "# Allocate a unique index for each user, but let the zeroth index be a UNK index:\n",
        "ind2user = {idx +1: item_id for idx, item_id in enumerate(unique_userIds)}\n",
        "user2ind = {itemid : idx for idx, itemid in ind2user.items()}\n",
        "print(f\"We have {len(user2ind)} unique users in the dataset\")\n",
        "\n",
        "# Create a new column with userIdx:\n",
        "#raw_behaviour['userIdx'] = raw_behaviour['user_id'].map(lambda x: user2ind.get(x,0))"
      ]
    },
    {
      "attachments": {},
      "cell_type": "markdown",
      "metadata": {},
      "source": [
        "### Load Validation Behavior data"
      ]
    },
    {
      "cell_type": "code",
      "execution_count": 186,
      "metadata": {},
      "outputs": [
        {
          "name": "stdout",
          "output_type": "stream",
          "text": [
            "The dataset consist of 22034 number of interactions.\n",
            "We have 5000 unique users in the dataset\n"
          ]
        }
      ],
      "source": [
        "temp_dir_val=\"/home/azureuser/cloudfiles/code/Users/lab164/recommenders/data/valid\"\n",
        "behaviors_path = os.path.join(temp_dir_val, 'behaviors.tsv')\n",
        "\n",
        "raw_behaviour_val=pd.read_table(\n",
        "    behaviors_path,\n",
        "    header=None,\n",
        "    names=['impression_id', 'user_id', 'time', 'history', 'impressions'])\n",
        "\n",
        "#raw_behaviour.head()\n",
        "\n",
        "\n",
        "print(f\"The dataset consist of {len(raw_behaviour)} number of interactions.\")\n",
        "\n",
        "## Indexize users\n",
        "unique_userIds = raw_behaviour_val['user_id'].unique()\n",
        "# Allocate a unique index for each user, but let the zeroth index be a UNK index:\n",
        "ind2user = {idx +1: item_id for idx, item_id in enumerate(unique_userIds)}\n",
        "user2ind = {itemid : idx for idx, itemid in ind2user.items()}\n",
        "print(f\"We have {len(user2ind)} unique users in the dataset\")\n"
      ]
    },
    {
      "cell_type": "markdown",
      "metadata": {
        "nteract": {
          "transient": {
            "deleting": false
          }
        }
      },
      "source": [
        "### News EDA"
      ]
    },
    {
      "cell_type": "code",
      "execution_count": 187,
      "metadata": {
        "colab": {
          "base_uri": "https://localhost:8080/",
          "height": 798
        },
        "gather": {
          "logged": 1675632843050
        },
        "id": "E_9p4cllKNme",
        "outputId": "37f2c234-e029-46c2-ceb8-ba259ca36d49"
      },
      "outputs": [
        {
          "data": {
            "text/html": [
              "<div>\n",
              "<style scoped>\n",
              "    .dataframe tbody tr th:only-of-type {\n",
              "        vertical-align: middle;\n",
              "    }\n",
              "\n",
              "    .dataframe tbody tr th {\n",
              "        vertical-align: top;\n",
              "    }\n",
              "\n",
              "    .dataframe thead th {\n",
              "        text-align: right;\n",
              "    }\n",
              "</style>\n",
              "<table border=\"1\" class=\"dataframe\">\n",
              "  <thead>\n",
              "    <tr style=\"text-align: right;\">\n",
              "      <th></th>\n",
              "      <th>id</th>\n",
              "      <th>category</th>\n",
              "      <th>subcategory</th>\n",
              "      <th>title</th>\n",
              "      <th>abstract</th>\n",
              "      <th>url</th>\n",
              "      <th>title_entities</th>\n",
              "      <th>abstract_entities</th>\n",
              "    </tr>\n",
              "  </thead>\n",
              "  <tbody>\n",
              "    <tr>\n",
              "      <th>0</th>\n",
              "      <td>N3112</td>\n",
              "      <td>lifestyle</td>\n",
              "      <td>lifestyleroyals</td>\n",
              "      <td>The Brands Queen Elizabeth, Prince Charles, an...</td>\n",
              "      <td>Shop the notebooks, jackets, and more that the...</td>\n",
              "      <td>https://www.msn.com/en-us/lifestyle/lifestyler...</td>\n",
              "      <td>[{\"Label\": \"Prince Philip, Duke of Edinburgh\",...</td>\n",
              "      <td>[]</td>\n",
              "    </tr>\n",
              "    <tr>\n",
              "      <th>1</th>\n",
              "      <td>N10399</td>\n",
              "      <td>news</td>\n",
              "      <td>newsworld</td>\n",
              "      <td>The Cost of Trump's Aid Freeze in the Trenches...</td>\n",
              "      <td>Lt. Ivan Molchanets peeked over a parapet of s...</td>\n",
              "      <td>https://www.msn.com/en-us/news/world/the-cost-...</td>\n",
              "      <td>[]</td>\n",
              "      <td>[{\"Label\": \"Ukraine\", \"Type\": \"G\", \"WikidataId...</td>\n",
              "    </tr>\n",
              "    <tr>\n",
              "      <th>2</th>\n",
              "      <td>N12103</td>\n",
              "      <td>health</td>\n",
              "      <td>voices</td>\n",
              "      <td>I Was An NBA Wife. Here's How It Affected My M...</td>\n",
              "      <td>I felt like I was a fraud, and being an NBA wi...</td>\n",
              "      <td>https://www.msn.com/en-us/health/voices/i-was-...</td>\n",
              "      <td>[]</td>\n",
              "      <td>[{\"Label\": \"National Basketball Association\", ...</td>\n",
              "    </tr>\n",
              "    <tr>\n",
              "      <th>3</th>\n",
              "      <td>N20460</td>\n",
              "      <td>health</td>\n",
              "      <td>medical</td>\n",
              "      <td>How to Get Rid of Skin Tags, According to a De...</td>\n",
              "      <td>They seem harmless, but there's a very good re...</td>\n",
              "      <td>https://www.msn.com/en-us/health/medical/how-t...</td>\n",
              "      <td>[{\"Label\": \"Skin tag\", \"Type\": \"C\", \"WikidataI...</td>\n",
              "      <td>[{\"Label\": \"Skin tag\", \"Type\": \"C\", \"WikidataI...</td>\n",
              "    </tr>\n",
              "    <tr>\n",
              "      <th>4</th>\n",
              "      <td>N5409</td>\n",
              "      <td>weather</td>\n",
              "      <td>weathertopstories</td>\n",
              "      <td>It's been Orlando's hottest October ever so fa...</td>\n",
              "      <td>There won't be a chill down to your bones this...</td>\n",
              "      <td>https://www.msn.com/en-us/weather/weathertopst...</td>\n",
              "      <td>[{\"Label\": \"Orlando, Florida\", \"Type\": \"G\", \"W...</td>\n",
              "      <td>[{\"Label\": \"Orlando, Florida\", \"Type\": \"G\", \"W...</td>\n",
              "    </tr>\n",
              "  </tbody>\n",
              "</table>\n",
              "</div>"
            ],
            "text/plain": [
              "       id   category        subcategory  \\\n",
              "0   N3112  lifestyle    lifestyleroyals   \n",
              "1  N10399       news          newsworld   \n",
              "2  N12103     health             voices   \n",
              "3  N20460     health            medical   \n",
              "4   N5409    weather  weathertopstories   \n",
              "\n",
              "                                               title  \\\n",
              "0  The Brands Queen Elizabeth, Prince Charles, an...   \n",
              "1  The Cost of Trump's Aid Freeze in the Trenches...   \n",
              "2  I Was An NBA Wife. Here's How It Affected My M...   \n",
              "3  How to Get Rid of Skin Tags, According to a De...   \n",
              "4  It's been Orlando's hottest October ever so fa...   \n",
              "\n",
              "                                            abstract  \\\n",
              "0  Shop the notebooks, jackets, and more that the...   \n",
              "1  Lt. Ivan Molchanets peeked over a parapet of s...   \n",
              "2  I felt like I was a fraud, and being an NBA wi...   \n",
              "3  They seem harmless, but there's a very good re...   \n",
              "4  There won't be a chill down to your bones this...   \n",
              "\n",
              "                                                 url  \\\n",
              "0  https://www.msn.com/en-us/lifestyle/lifestyler...   \n",
              "1  https://www.msn.com/en-us/news/world/the-cost-...   \n",
              "2  https://www.msn.com/en-us/health/voices/i-was-...   \n",
              "3  https://www.msn.com/en-us/health/medical/how-t...   \n",
              "4  https://www.msn.com/en-us/weather/weathertopst...   \n",
              "\n",
              "                                      title_entities  \\\n",
              "0  [{\"Label\": \"Prince Philip, Duke of Edinburgh\",...   \n",
              "1                                                 []   \n",
              "2                                                 []   \n",
              "3  [{\"Label\": \"Skin tag\", \"Type\": \"C\", \"WikidataI...   \n",
              "4  [{\"Label\": \"Orlando, Florida\", \"Type\": \"G\", \"W...   \n",
              "\n",
              "                                   abstract_entities  \n",
              "0                                                 []  \n",
              "1  [{\"Label\": \"Ukraine\", \"Type\": \"G\", \"WikidataId...  \n",
              "2  [{\"Label\": \"National Basketball Association\", ...  \n",
              "3  [{\"Label\": \"Skin tag\", \"Type\": \"C\", \"WikidataI...  \n",
              "4  [{\"Label\": \"Orlando, Florida\", \"Type\": \"G\", \"W...  "
            ]
          },
          "execution_count": 187,
          "metadata": {},
          "output_type": "execute_result"
        }
      ],
      "source": [
        "# The news.tsv file contains the detailed information of news articles involved in the behaviors.tsv file.\n",
        "# It has 7 columns, which are divided by the tab symbol:\n",
        "# - News ID\n",
        "# - Category\n",
        "# - Subcategory\n",
        "# - Title\n",
        "# - Abstract\n",
        "# - URL\n",
        "# - Title Entities (entities contained in the title of this news)\n",
        "# - Abstract Entities (entities contained in the abstract of this news)\n",
        "news_path = os.path.join(temp_dir, 'news.tsv')\n",
        "news = pd.read_table(news_path,\n",
        "              header=None,\n",
        "              names=[\n",
        "                  'id', 'category', 'subcategory', 'title', 'abstract', 'url',\n",
        "                  'title_entities', 'abstract_entities'\n",
        "              ])\n",
        "\n",
        "news.head()"
      ]
    },
    {
      "cell_type": "code",
      "execution_count": 188,
      "metadata": {
        "gather": {
          "logged": 1675632889209
        },
        "jupyter": {
          "outputs_hidden": false,
          "source_hidden": false
        },
        "nteract": {
          "transient": {
            "deleting": false
          }
        }
      },
      "outputs": [],
      "source": [
        "# Build index of items\n",
        "ind2item = {idx +1: itemid for idx, itemid in enumerate(news['id'].values)}\n",
        "item2ind = {itemid : idx for idx, itemid in ind2item.items()}"
      ]
    },
    {
      "cell_type": "markdown",
      "metadata": {
        "nteract": {
          "transient": {
            "deleting": false
          }
        }
      },
      "source": [
        "### Create indexed list of click history"
      ]
    },
    {
      "cell_type": "code",
      "execution_count": 189,
      "metadata": {
        "gather": {
          "logged": 1675641924041
        },
        "jupyter": {
          "outputs_hidden": false,
          "source_hidden": false
        },
        "nteract": {
          "transient": {
            "deleting": false
          }
        }
      },
      "outputs": [
        {
          "data": {
            "text/html": [
              "<div>\n",
              "<style scoped>\n",
              "    .dataframe tbody tr th:only-of-type {\n",
              "        vertical-align: middle;\n",
              "    }\n",
              "\n",
              "    .dataframe tbody tr th {\n",
              "        vertical-align: top;\n",
              "    }\n",
              "\n",
              "    .dataframe thead th {\n",
              "        text-align: right;\n",
              "    }\n",
              "</style>\n",
              "<table border=\"1\" class=\"dataframe\">\n",
              "  <thead>\n",
              "    <tr style=\"text-align: right;\">\n",
              "      <th></th>\n",
              "      <th>impression_id</th>\n",
              "      <th>user_id</th>\n",
              "      <th>time</th>\n",
              "      <th>history</th>\n",
              "      <th>impressions</th>\n",
              "      <th>click_history_idx</th>\n",
              "    </tr>\n",
              "  </thead>\n",
              "  <tbody>\n",
              "    <tr>\n",
              "      <th>0</th>\n",
              "      <td>1</td>\n",
              "      <td>U82271</td>\n",
              "      <td>11/11/2019 3:28:58 PM</td>\n",
              "      <td>N3130 N11621 N12917 N4574 N12140 N9748</td>\n",
              "      <td>N13390-0 N7180-0 N20785-0 N6937-0 N15776-0 N25...</td>\n",
              "      <td>[1545, 14516, 5889, 7949, 8467, 12602]</td>\n",
              "    </tr>\n",
              "    <tr>\n",
              "      <th>1</th>\n",
              "      <td>2</td>\n",
              "      <td>U84185</td>\n",
              "      <td>11/12/2019 10:36:47 AM</td>\n",
              "      <td>N27209 N11723 N4617 N12320 N11333 N24461 N2211...</td>\n",
              "      <td>N13089-0 N18101-0 N1248-0 N26273-0 N12770-1 N1...</td>\n",
              "      <td>[12070, 3341, 10176, 8105, 4983, 12855, 10405,...</td>\n",
              "    </tr>\n",
              "    <tr>\n",
              "      <th>2</th>\n",
              "      <td>3</td>\n",
              "      <td>U11552</td>\n",
              "      <td>11/11/2019 1:03:52 PM</td>\n",
              "      <td>N2139</td>\n",
              "      <td>N18390-0 N10537-0 N23967-1</td>\n",
              "      <td>[2712]</td>\n",
              "    </tr>\n",
              "    <tr>\n",
              "      <th>3</th>\n",
              "      <td>4</td>\n",
              "      <td>U68381</td>\n",
              "      <td>11/11/2019 6:44:05 AM</td>\n",
              "      <td>N27420 N11621 N25416 N25457 N5124 N11751 N1175...</td>\n",
              "      <td>N15660-0 N18609-0 N2831-0 N5677-0 N19010-0 N15...</td>\n",
              "      <td>[7224, 14516, 6733, 13479, 3202, 4411, 4411, 5...</td>\n",
              "    </tr>\n",
              "    <tr>\n",
              "      <th>4</th>\n",
              "      <td>5</td>\n",
              "      <td>U52303</td>\n",
              "      <td>11/12/2019 3:11:52 AM</td>\n",
              "      <td>N1332 N12667</td>\n",
              "      <td>N15645-0 N7911-1</td>\n",
              "      <td>[13217, 10867]</td>\n",
              "    </tr>\n",
              "  </tbody>\n",
              "</table>\n",
              "</div>"
            ],
            "text/plain": [
              "   impression_id user_id                    time  \\\n",
              "0              1  U82271   11/11/2019 3:28:58 PM   \n",
              "1              2  U84185  11/12/2019 10:36:47 AM   \n",
              "2              3  U11552   11/11/2019 1:03:52 PM   \n",
              "3              4  U68381   11/11/2019 6:44:05 AM   \n",
              "4              5  U52303   11/12/2019 3:11:52 AM   \n",
              "\n",
              "                                             history  \\\n",
              "0             N3130 N11621 N12917 N4574 N12140 N9748   \n",
              "1  N27209 N11723 N4617 N12320 N11333 N24461 N2211...   \n",
              "2                                              N2139   \n",
              "3  N27420 N11621 N25416 N25457 N5124 N11751 N1175...   \n",
              "4                                       N1332 N12667   \n",
              "\n",
              "                                         impressions  \\\n",
              "0  N13390-0 N7180-0 N20785-0 N6937-0 N15776-0 N25...   \n",
              "1  N13089-0 N18101-0 N1248-0 N26273-0 N12770-1 N1...   \n",
              "2                         N18390-0 N10537-0 N23967-1   \n",
              "3  N15660-0 N18609-0 N2831-0 N5677-0 N19010-0 N15...   \n",
              "4                                   N15645-0 N7911-1   \n",
              "\n",
              "                                   click_history_idx  \n",
              "0             [1545, 14516, 5889, 7949, 8467, 12602]  \n",
              "1  [12070, 3341, 10176, 8105, 4983, 12855, 10405,...  \n",
              "2                                             [2712]  \n",
              "3  [7224, 14516, 6733, 13479, 3202, 4411, 4411, 5...  \n",
              "4                                     [13217, 10867]  "
            ]
          },
          "execution_count": 189,
          "metadata": {},
          "output_type": "execute_result"
        }
      ],
      "source": [
        "# Indexize click history field\n",
        "def process_click_history(s):\n",
        "    list_of_strings = str(s).split(\" \")\n",
        "    return [item2ind.get(l, 0) for l in list_of_strings]\n",
        "        \n",
        "raw_behaviour['click_history_idx'] = raw_behaviour.history.map(lambda s: process_click_history(s))\n",
        "raw_behaviour.head()"
      ]
    },
    {
      "cell_type": "markdown",
      "metadata": {
        "nteract": {
          "transient": {
            "deleting": false
          }
        }
      },
      "source": [
        "### Entity Embeddings EDA"
      ]
    },
    {
      "cell_type": "code",
      "execution_count": 190,
      "metadata": {
        "colab": {
          "base_uri": "https://localhost:8080/",
          "height": 424
        },
        "gather": {
          "logged": 1675631615227
        },
        "id": "rZa5ZB_UKPkJ",
        "outputId": "dd7c415e-0337-41a1-872c-cfe70ff5e284"
      },
      "outputs": [
        {
          "data": {
            "text/html": [
              "<div>\n",
              "<style scoped>\n",
              "    .dataframe tbody tr th:only-of-type {\n",
              "        vertical-align: middle;\n",
              "    }\n",
              "\n",
              "    .dataframe tbody tr th {\n",
              "        vertical-align: top;\n",
              "    }\n",
              "\n",
              "    .dataframe thead th {\n",
              "        text-align: right;\n",
              "    }\n",
              "</style>\n",
              "<table border=\"1\" class=\"dataframe\">\n",
              "  <thead>\n",
              "    <tr style=\"text-align: right;\">\n",
              "      <th></th>\n",
              "      <th>entity</th>\n",
              "      <th>vector</th>\n",
              "    </tr>\n",
              "  </thead>\n",
              "  <tbody>\n",
              "    <tr>\n",
              "      <th>0</th>\n",
              "      <td>Q41</td>\n",
              "      <td>[-0.063388, -0.181451, 0.057501, -0.091254, -0...</td>\n",
              "    </tr>\n",
              "    <tr>\n",
              "      <th>1</th>\n",
              "      <td>Q1860</td>\n",
              "      <td>[0.060958, 0.069934, 0.015832, 0.079471, -0.02...</td>\n",
              "    </tr>\n",
              "    <tr>\n",
              "      <th>2</th>\n",
              "      <td>Q30</td>\n",
              "      <td>[-0.115737, -0.179113, 0.102739, -0.112469, -0...</td>\n",
              "    </tr>\n",
              "    <tr>\n",
              "      <th>3</th>\n",
              "      <td>Q60</td>\n",
              "      <td>[-0.051036, -0.165637, 0.132802, -0.089949, -0...</td>\n",
              "    </tr>\n",
              "    <tr>\n",
              "      <th>4</th>\n",
              "      <td>Q847017</td>\n",
              "      <td>[-0.04397, -0.085714, 0.011526, 0.022439, 0.12...</td>\n",
              "    </tr>\n",
              "    <tr>\n",
              "      <th>...</th>\n",
              "      <td>...</td>\n",
              "      <td>...</td>\n",
              "    </tr>\n",
              "    <tr>\n",
              "      <th>16755</th>\n",
              "      <td>Q278846</td>\n",
              "      <td>[0.042413, 0.021957, 0.072414, -0.068437, 0.02...</td>\n",
              "    </tr>\n",
              "    <tr>\n",
              "      <th>16756</th>\n",
              "      <td>Q54621949</td>\n",
              "      <td>[-0.018299, -0.048378, -0.021645, -0.079743, 0...</td>\n",
              "    </tr>\n",
              "    <tr>\n",
              "      <th>16757</th>\n",
              "      <td>Q42225228</td>\n",
              "      <td>[-0.051346, -0.028947, -0.07587, 0.017512, -0....</td>\n",
              "    </tr>\n",
              "    <tr>\n",
              "      <th>16758</th>\n",
              "      <td>Q54860678</td>\n",
              "      <td>[-0.03162, -0.041283, -0.016871, 0.044251, -0....</td>\n",
              "    </tr>\n",
              "    <tr>\n",
              "      <th>16759</th>\n",
              "      <td>Q54862508</td>\n",
              "      <td>[-0.052323, -0.078029, -0.060925, -0.052536, 0...</td>\n",
              "    </tr>\n",
              "  </tbody>\n",
              "</table>\n",
              "<p>16760 rows × 2 columns</p>\n",
              "</div>"
            ],
            "text/plain": [
              "          entity                                             vector\n",
              "0            Q41  [-0.063388, -0.181451, 0.057501, -0.091254, -0...\n",
              "1          Q1860  [0.060958, 0.069934, 0.015832, 0.079471, -0.02...\n",
              "2            Q30  [-0.115737, -0.179113, 0.102739, -0.112469, -0...\n",
              "3            Q60  [-0.051036, -0.165637, 0.132802, -0.089949, -0...\n",
              "4        Q847017  [-0.04397, -0.085714, 0.011526, 0.022439, 0.12...\n",
              "...          ...                                                ...\n",
              "16755    Q278846  [0.042413, 0.021957, 0.072414, -0.068437, 0.02...\n",
              "16756  Q54621949  [-0.018299, -0.048378, -0.021645, -0.079743, 0...\n",
              "16757  Q42225228  [-0.051346, -0.028947, -0.07587, 0.017512, -0....\n",
              "16758  Q54860678  [-0.03162, -0.041283, -0.016871, 0.044251, -0....\n",
              "16759  Q54862508  [-0.052323, -0.078029, -0.060925, -0.052536, 0...\n",
              "\n",
              "[16760 rows x 2 columns]"
            ]
          },
          "execution_count": 190,
          "metadata": {},
          "output_type": "execute_result"
        }
      ],
      "source": [
        "# The entity_embedding.vec file contains the 100-dimensional embeddings\n",
        "# of the entities learned from the subgraph by TransE method.\n",
        "# The first column is the ID of entity, and the other columns are the embedding vector values.\n",
        "entity_embedding_path = os.path.join(temp_dir, 'entity_embedding.vec')\n",
        "entity_embedding = pd.read_table(entity_embedding_path, header=None)\n",
        "entity_embedding['vector'] = entity_embedding.iloc[:, 1:101].values.tolist()\n",
        "entity_embedding = entity_embedding[[0,'vector']].rename(columns={0: \"entity\"})\n",
        "entity_embedding\n"
      ]
    },
    {
      "cell_type": "code",
      "execution_count": 191,
      "metadata": {
        "colab": {
          "base_uri": "https://localhost:8080/",
          "height": 424
        },
        "gather": {
          "logged": 1675631615381
        },
        "id": "zGtcloKkKRfD",
        "outputId": "7ab3baed-b445-4aa4-f6a9-dc162e2ad636"
      },
      "outputs": [
        {
          "data": {
            "text/html": [
              "<div>\n",
              "<style scoped>\n",
              "    .dataframe tbody tr th:only-of-type {\n",
              "        vertical-align: middle;\n",
              "    }\n",
              "\n",
              "    .dataframe tbody tr th {\n",
              "        vertical-align: top;\n",
              "    }\n",
              "\n",
              "    .dataframe thead th {\n",
              "        text-align: right;\n",
              "    }\n",
              "</style>\n",
              "<table border=\"1\" class=\"dataframe\">\n",
              "  <thead>\n",
              "    <tr style=\"text-align: right;\">\n",
              "      <th></th>\n",
              "      <th>relation</th>\n",
              "      <th>vector</th>\n",
              "    </tr>\n",
              "  </thead>\n",
              "  <tbody>\n",
              "    <tr>\n",
              "      <th>0</th>\n",
              "      <td>P31</td>\n",
              "      <td>[-0.073467, -0.132227, 0.034173, -0.032769, 0....</td>\n",
              "    </tr>\n",
              "    <tr>\n",
              "      <th>1</th>\n",
              "      <td>P21</td>\n",
              "      <td>[-0.078436, 0.108589, -0.049429, -0.131355, 0....</td>\n",
              "    </tr>\n",
              "    <tr>\n",
              "      <th>2</th>\n",
              "      <td>P106</td>\n",
              "      <td>[-0.052137, 0.052444, -0.019886, -0.152309, 0....</td>\n",
              "    </tr>\n",
              "    <tr>\n",
              "      <th>3</th>\n",
              "      <td>P735</td>\n",
              "      <td>[-0.051398, 0.056219, 0.068029, -0.137717, -0....</td>\n",
              "    </tr>\n",
              "    <tr>\n",
              "      <th>4</th>\n",
              "      <td>P108</td>\n",
              "      <td>[0.091231, 0.022526, 0.059349, -0.141853, 0.03...</td>\n",
              "    </tr>\n",
              "    <tr>\n",
              "      <th>...</th>\n",
              "      <td>...</td>\n",
              "      <td>...</td>\n",
              "    </tr>\n",
              "    <tr>\n",
              "      <th>1086</th>\n",
              "      <td>P1897</td>\n",
              "      <td>[-0.019021, 0.001183, -0.009602, -0.040833, -0...</td>\n",
              "    </tr>\n",
              "    <tr>\n",
              "      <th>1087</th>\n",
              "      <td>P3776</td>\n",
              "      <td>[-0.018365, 0.028526, -0.025934, 0.032296, -0....</td>\n",
              "    </tr>\n",
              "    <tr>\n",
              "      <th>1088</th>\n",
              "      <td>P1194</td>\n",
              "      <td>[-0.026819, 0.003231, -0.011298, -0.015206, 0....</td>\n",
              "    </tr>\n",
              "    <tr>\n",
              "      <th>1089</th>\n",
              "      <td>P2502</td>\n",
              "      <td>[0.003554, -0.041121, -0.010559, -0.037862, -0...</td>\n",
              "    </tr>\n",
              "    <tr>\n",
              "      <th>1090</th>\n",
              "      <td>P6977</td>\n",
              "      <td>[-0.023617, -0.021648, 0.009369, -0.021757, 0....</td>\n",
              "    </tr>\n",
              "  </tbody>\n",
              "</table>\n",
              "<p>1091 rows × 2 columns</p>\n",
              "</div>"
            ],
            "text/plain": [
              "     relation                                             vector\n",
              "0         P31  [-0.073467, -0.132227, 0.034173, -0.032769, 0....\n",
              "1         P21  [-0.078436, 0.108589, -0.049429, -0.131355, 0....\n",
              "2        P106  [-0.052137, 0.052444, -0.019886, -0.152309, 0....\n",
              "3        P735  [-0.051398, 0.056219, 0.068029, -0.137717, -0....\n",
              "4        P108  [0.091231, 0.022526, 0.059349, -0.141853, 0.03...\n",
              "...       ...                                                ...\n",
              "1086    P1897  [-0.019021, 0.001183, -0.009602, -0.040833, -0...\n",
              "1087    P3776  [-0.018365, 0.028526, -0.025934, 0.032296, -0....\n",
              "1088    P1194  [-0.026819, 0.003231, -0.011298, -0.015206, 0....\n",
              "1089    P2502  [0.003554, -0.041121, -0.010559, -0.037862, -0...\n",
              "1090    P6977  [-0.023617, -0.021648, 0.009369, -0.021757, 0....\n",
              "\n",
              "[1091 rows x 2 columns]"
            ]
          },
          "execution_count": 191,
          "metadata": {},
          "output_type": "execute_result"
        }
      ],
      "source": [
        "# The relation_embedding.vec file contains the 100-dimensional embeddings\n",
        "# of the relations learned from the subgraph by TransE method.\n",
        "# The first column is the ID of relation, and the other columns are the embedding vector values.\n",
        "relation_embedding_path = os.path.join(temp_dir, 'relation_embedding.vec')\n",
        "relation_embedding = pd.read_table(relation_embedding_path, header=None)\n",
        "relation_embedding['vector'] = relation_embedding.iloc[:,1:101].values.tolist()\n",
        "relation_embedding = relation_embedding[[0, 'vector']].rename(columns={0: \"relation\"})\n",
        "relation_embedding"
      ]
    },
    {
      "attachments": {},
      "cell_type": "markdown",
      "metadata": {},
      "source": [
        "# Create New Train, Val and Test Datasets:"
      ]
    },
    {
      "cell_type": "code",
      "execution_count": 192,
      "metadata": {},
      "outputs": [
        {
          "data": {
            "text/html": [
              "<div>\n",
              "<style scoped>\n",
              "    .dataframe tbody tr th:only-of-type {\n",
              "        vertical-align: middle;\n",
              "    }\n",
              "\n",
              "    .dataframe tbody tr th {\n",
              "        vertical-align: top;\n",
              "    }\n",
              "\n",
              "    .dataframe thead th {\n",
              "        text-align: right;\n",
              "    }\n",
              "</style>\n",
              "<table border=\"1\" class=\"dataframe\">\n",
              "  <thead>\n",
              "    <tr style=\"text-align: right;\">\n",
              "      <th></th>\n",
              "      <th>impression_id</th>\n",
              "      <th>user_id</th>\n",
              "      <th>time</th>\n",
              "      <th>history</th>\n",
              "      <th>impressions</th>\n",
              "      <th>click_history_idx</th>\n",
              "    </tr>\n",
              "  </thead>\n",
              "  <tbody>\n",
              "    <tr>\n",
              "      <th>0</th>\n",
              "      <td>1</td>\n",
              "      <td>U82271</td>\n",
              "      <td>11/11/2019 3:28:58 PM</td>\n",
              "      <td>N3130 N11621 N12917 N4574 N12140 N9748</td>\n",
              "      <td>N13390-0 N7180-0 N20785-0 N6937-0 N15776-0 N25...</td>\n",
              "      <td>[1545, 14516, 5889, 7949, 8467, 12602]</td>\n",
              "    </tr>\n",
              "    <tr>\n",
              "      <th>1</th>\n",
              "      <td>2</td>\n",
              "      <td>U84185</td>\n",
              "      <td>11/12/2019 10:36:47 AM</td>\n",
              "      <td>N27209 N11723 N4617 N12320 N11333 N24461 N2211...</td>\n",
              "      <td>N13089-0 N18101-0 N1248-0 N26273-0 N12770-1 N1...</td>\n",
              "      <td>[12070, 3341, 10176, 8105, 4983, 12855, 10405,...</td>\n",
              "    </tr>\n",
              "  </tbody>\n",
              "</table>\n",
              "</div>"
            ],
            "text/plain": [
              "   impression_id user_id                    time  \\\n",
              "0              1  U82271   11/11/2019 3:28:58 PM   \n",
              "1              2  U84185  11/12/2019 10:36:47 AM   \n",
              "\n",
              "                                             history  \\\n",
              "0             N3130 N11621 N12917 N4574 N12140 N9748   \n",
              "1  N27209 N11723 N4617 N12320 N11333 N24461 N2211...   \n",
              "\n",
              "                                         impressions  \\\n",
              "0  N13390-0 N7180-0 N20785-0 N6937-0 N15776-0 N25...   \n",
              "1  N13089-0 N18101-0 N1248-0 N26273-0 N12770-1 N1...   \n",
              "\n",
              "                                   click_history_idx  \n",
              "0             [1545, 14516, 5889, 7949, 8467, 12602]  \n",
              "1  [12070, 3341, 10176, 8105, 4983, 12855, 10405,...  "
            ]
          },
          "execution_count": 192,
          "metadata": {},
          "output_type": "execute_result"
        }
      ],
      "source": [
        "raw_behaviour.head(2)"
      ]
    },
    {
      "cell_type": "code",
      "execution_count": 193,
      "metadata": {},
      "outputs": [],
      "source": [
        "def process_impression(s):\n",
        "    \n",
        "    list_of_strings = s.split(\" \")\n",
        "    itemid_rel_tuple = [l.split(\"-\") for l in list_of_strings]\n",
        "\n",
        "    noclicks = []\n",
        "    total_impressions=0\n",
        "    num_clicks=0\n",
        "    num_noclicks=0\n",
        "\n",
        "    for entry in itemid_rel_tuple:\n",
        "        if entry[1] =='0':\n",
        "            noclicks.append(entry[0])\n",
        "            num_noclicks+=1\n",
        "        if entry[1] =='1':\n",
        "            click = entry[0]\n",
        "            num_clicks+=1\n",
        "        total_impressions+=1\n",
        "    return noclicks, click, total_impressions,num_clicks,num_noclicks\n",
        "\n",
        "raw_behaviour['noclicks'], raw_behaviour['click'],raw_behaviour['num_impressions'],raw_behaviour['num_clicks'],raw_behaviour['num_noclicks'] = zip(*raw_behaviour['impressions'].map(process_impression))\n",
        "# We can then indexize these two new columns:\n",
        "raw_behaviour['noclicks'] = raw_behaviour['noclicks'].map(lambda list_of_strings: [item2ind.get(l, 0) for l in list_of_strings])\n",
        "raw_behaviour['click'] = raw_behaviour['click'].map(lambda x: item2ind.get(x,0))\n",
        "\n",
        "### Calculate click through rate:\n",
        "raw_behaviour['ctr'] = (raw_behaviour['num_clicks']/raw_behaviour['num_impressions']).apply(lambda x: round(x, 2))"
      ]
    },
    {
      "cell_type": "code",
      "execution_count": 194,
      "metadata": {},
      "outputs": [
        {
          "data": {
            "text/html": [
              "<div>\n",
              "<style scoped>\n",
              "    .dataframe tbody tr th:only-of-type {\n",
              "        vertical-align: middle;\n",
              "    }\n",
              "\n",
              "    .dataframe tbody tr th {\n",
              "        vertical-align: top;\n",
              "    }\n",
              "\n",
              "    .dataframe thead th {\n",
              "        text-align: right;\n",
              "    }\n",
              "</style>\n",
              "<table border=\"1\" class=\"dataframe\">\n",
              "  <thead>\n",
              "    <tr style=\"text-align: right;\">\n",
              "      <th></th>\n",
              "      <th>impression_id</th>\n",
              "      <th>user_id</th>\n",
              "      <th>time</th>\n",
              "      <th>history</th>\n",
              "      <th>impressions</th>\n",
              "      <th>click_history_idx</th>\n",
              "      <th>noclicks</th>\n",
              "      <th>click</th>\n",
              "      <th>num_impressions</th>\n",
              "      <th>num_clicks</th>\n",
              "      <th>num_noclicks</th>\n",
              "      <th>ctr</th>\n",
              "    </tr>\n",
              "  </thead>\n",
              "  <tbody>\n",
              "    <tr>\n",
              "      <th>0</th>\n",
              "      <td>1</td>\n",
              "      <td>U82271</td>\n",
              "      <td>11/11/2019 3:28:58 PM</td>\n",
              "      <td>N3130 N11621 N12917 N4574 N12140 N9748</td>\n",
              "      <td>N13390-0 N7180-0 N20785-0 N6937-0 N15776-0 N25...</td>\n",
              "      <td>[1545, 14516, 5889, 7949, 8467, 12602]</td>\n",
              "      <td>[15078, 15981, 23272, 14872, 26384, 6447, 4788...</td>\n",
              "      <td>16179</td>\n",
              "      <td>87</td>\n",
              "      <td>1</td>\n",
              "      <td>86</td>\n",
              "      <td>0.01</td>\n",
              "    </tr>\n",
              "    <tr>\n",
              "      <th>1</th>\n",
              "      <td>2</td>\n",
              "      <td>U84185</td>\n",
              "      <td>11/12/2019 10:36:47 AM</td>\n",
              "      <td>N27209 N11723 N4617 N12320 N11333 N24461 N2211...</td>\n",
              "      <td>N13089-0 N18101-0 N1248-0 N26273-0 N12770-1 N1...</td>\n",
              "      <td>[12070, 3341, 10176, 8105, 4983, 12855, 10405,...</td>\n",
              "      <td>[16071, 14830, 22380, 21105, 16036, 26272]</td>\n",
              "      <td>21064</td>\n",
              "      <td>7</td>\n",
              "      <td>1</td>\n",
              "      <td>6</td>\n",
              "      <td>0.14</td>\n",
              "    </tr>\n",
              "  </tbody>\n",
              "</table>\n",
              "</div>"
            ],
            "text/plain": [
              "   impression_id user_id                    time  \\\n",
              "0              1  U82271   11/11/2019 3:28:58 PM   \n",
              "1              2  U84185  11/12/2019 10:36:47 AM   \n",
              "\n",
              "                                             history  \\\n",
              "0             N3130 N11621 N12917 N4574 N12140 N9748   \n",
              "1  N27209 N11723 N4617 N12320 N11333 N24461 N2211...   \n",
              "\n",
              "                                         impressions  \\\n",
              "0  N13390-0 N7180-0 N20785-0 N6937-0 N15776-0 N25...   \n",
              "1  N13089-0 N18101-0 N1248-0 N26273-0 N12770-1 N1...   \n",
              "\n",
              "                                   click_history_idx  \\\n",
              "0             [1545, 14516, 5889, 7949, 8467, 12602]   \n",
              "1  [12070, 3341, 10176, 8105, 4983, 12855, 10405,...   \n",
              "\n",
              "                                            noclicks  click  num_impressions  \\\n",
              "0  [15078, 15981, 23272, 14872, 26384, 6447, 4788...  16179               87   \n",
              "1         [16071, 14830, 22380, 21105, 16036, 26272]  21064                7   \n",
              "\n",
              "   num_clicks  num_noclicks   ctr  \n",
              "0           1            86  0.01  \n",
              "1           1             6  0.14  "
            ]
          },
          "execution_count": 194,
          "metadata": {},
          "output_type": "execute_result"
        }
      ],
      "source": [
        "raw_behaviour.head(2)"
      ]
    },
    {
      "cell_type": "code",
      "execution_count": 206,
      "metadata": {},
      "outputs": [
        {
          "data": {
            "text/plain": [
              "array([[<AxesSubplot: title={'center': 'ctr'}>]], dtype=object)"
            ]
          },
          "execution_count": 206,
          "metadata": {},
          "output_type": "execute_result"
        },
        {
          "data": {
            "image/png": "[encoded data removed]",
            "text/plain": [
              "<Figure size 640x480 with 1 Axes>"
            ]
          },
          "metadata": {},
          "output_type": "display_data"
        }
      ],
      "source": [
        "raw_behaviour.hist(column='ctr')"
      ]
    },
    {
      "cell_type": "code",
      "execution_count": 207,
      "metadata": {},
      "outputs": [
        {
          "name": "stdout",
          "output_type": "stream",
          "text": [
            "The mean number of clicks is 0.1\n",
            "The median number of clicks is 0.06\n",
            "The mode number of clicks is 0.02\n",
            "The standard deviation of the number of clicks is 0.12\n"
          ]
        }
      ],
      "source": [
        "click_totals_list = raw_behaviour['ctr'].tolist()\n",
        "\n",
        "print(f'The mean number of clicks is {round(statistics.mean(click_totals_list),2)}')\n",
        "print(f'The median number of clicks is {statistics.median(click_totals_list)}')\n",
        "print(f'The mode number of clicks is {statistics.mode(click_totals_list)}')\n",
        "print(f'The standard deviation of the number of clicks is {round(statistics.stdev(click_totals_list),2)}')"
      ]
    },
    {
      "attachments": {},
      "cell_type": "markdown",
      "metadata": {},
      "source": [
        "### Filter Behavior Train Dataset"
      ]
    },
    {
      "cell_type": "code",
      "execution_count": 209,
      "metadata": {},
      "outputs": [],
      "source": [
        "raw_behaviour_train=raw_behaviour.copy(deep=True)"
      ]
    },
    {
      "cell_type": "code",
      "execution_count": 213,
      "metadata": {},
      "outputs": [],
      "source": [
        "ctr_mean = np.mean(raw_behaviour_train.ctr)\n",
        "ctr_std = np.std(raw_behaviour_train.ctr)\n",
        "\n",
        "# Filter Training Dataset:\n",
        "raw_behaviour_train['ctr_std_away_mean'] = ((raw_behaviour_train.ctr - ctr_mean)/ctr_std)\n",
        "\n",
        "#Then slice to select the rows below a threshold:\n",
        "raw_behaviour_train_filtered=raw_behaviour_train[raw_behaviour_train.ctr_std_away_mean < 3]"
      ]
    },
    {
      "cell_type": "code",
      "execution_count": 214,
      "metadata": {},
      "outputs": [
        {
          "data": {
            "text/html": [
              "<div>\n",
              "<style scoped>\n",
              "    .dataframe tbody tr th:only-of-type {\n",
              "        vertical-align: middle;\n",
              "    }\n",
              "\n",
              "    .dataframe tbody tr th {\n",
              "        vertical-align: top;\n",
              "    }\n",
              "\n",
              "    .dataframe thead th {\n",
              "        text-align: right;\n",
              "    }\n",
              "</style>\n",
              "<table border=\"1\" class=\"dataframe\">\n",
              "  <thead>\n",
              "    <tr style=\"text-align: right;\">\n",
              "      <th></th>\n",
              "      <th>impression_id</th>\n",
              "      <th>user_id</th>\n",
              "      <th>time</th>\n",
              "      <th>history</th>\n",
              "      <th>impressions</th>\n",
              "      <th>click_history_idx</th>\n",
              "      <th>noclicks</th>\n",
              "      <th>click</th>\n",
              "      <th>num_impressions</th>\n",
              "      <th>num_clicks</th>\n",
              "      <th>num_noclicks</th>\n",
              "      <th>ctr</th>\n",
              "      <th>ctr_std_away_mean</th>\n",
              "    </tr>\n",
              "  </thead>\n",
              "  <tbody>\n",
              "    <tr>\n",
              "      <th>0</th>\n",
              "      <td>1</td>\n",
              "      <td>U82271</td>\n",
              "      <td>11/11/2019 3:28:58 PM</td>\n",
              "      <td>N3130 N11621 N12917 N4574 N12140 N9748</td>\n",
              "      <td>N13390-0 N7180-0 N20785-0 N6937-0 N15776-0 N25...</td>\n",
              "      <td>[1545, 14516, 5889, 7949, 8467, 12602]</td>\n",
              "      <td>[15078, 15981, 23272, 14872, 26384, 6447, 4788...</td>\n",
              "      <td>16179</td>\n",
              "      <td>87</td>\n",
              "      <td>1</td>\n",
              "      <td>86</td>\n",
              "      <td>0.01</td>\n",
              "      <td>-0.762862</td>\n",
              "    </tr>\n",
              "    <tr>\n",
              "      <th>1</th>\n",
              "      <td>2</td>\n",
              "      <td>U84185</td>\n",
              "      <td>11/12/2019 10:36:47 AM</td>\n",
              "      <td>N27209 N11723 N4617 N12320 N11333 N24461 N2211...</td>\n",
              "      <td>N13089-0 N18101-0 N1248-0 N26273-0 N12770-1 N1...</td>\n",
              "      <td>[12070, 3341, 10176, 8105, 4983, 12855, 10405,...</td>\n",
              "      <td>[16071, 14830, 22380, 21105, 16036, 26272]</td>\n",
              "      <td>21064</td>\n",
              "      <td>7</td>\n",
              "      <td>1</td>\n",
              "      <td>6</td>\n",
              "      <td>0.14</td>\n",
              "      <td>0.319504</td>\n",
              "    </tr>\n",
              "  </tbody>\n",
              "</table>\n",
              "</div>"
            ],
            "text/plain": [
              "   impression_id user_id                    time  \\\n",
              "0              1  U82271   11/11/2019 3:28:58 PM   \n",
              "1              2  U84185  11/12/2019 10:36:47 AM   \n",
              "\n",
              "                                             history  \\\n",
              "0             N3130 N11621 N12917 N4574 N12140 N9748   \n",
              "1  N27209 N11723 N4617 N12320 N11333 N24461 N2211...   \n",
              "\n",
              "                                         impressions  \\\n",
              "0  N13390-0 N7180-0 N20785-0 N6937-0 N15776-0 N25...   \n",
              "1  N13089-0 N18101-0 N1248-0 N26273-0 N12770-1 N1...   \n",
              "\n",
              "                                   click_history_idx  \\\n",
              "0             [1545, 14516, 5889, 7949, 8467, 12602]   \n",
              "1  [12070, 3341, 10176, 8105, 4983, 12855, 10405,...   \n",
              "\n",
              "                                            noclicks  click  num_impressions  \\\n",
              "0  [15078, 15981, 23272, 14872, 26384, 6447, 4788...  16179               87   \n",
              "1         [16071, 14830, 22380, 21105, 16036, 26272]  21064                7   \n",
              "\n",
              "   num_clicks  num_noclicks   ctr  ctr_std_away_mean  \n",
              "0           1            86  0.01          -0.762862  \n",
              "1           1             6  0.14           0.319504  "
            ]
          },
          "execution_count": 214,
          "metadata": {},
          "output_type": "execute_result"
        }
      ],
      "source": [
        "raw_behaviour_train.head(2)"
      ]
    },
    {
      "cell_type": "code",
      "execution_count": 215,
      "metadata": {},
      "outputs": [
        {
          "data": {
            "text/plain": [
              "array([[<AxesSubplot: title={'center': 'ctr_std_away_mean'}>]],\n",
              "      dtype=object)"
            ]
          },
          "execution_count": 215,
          "metadata": {},
          "output_type": "execute_result"
        },
        {
          "data": {
            "image/png": "[encoded data removed]",
            "text/plain": [
              "<Figure size 640x480 with 1 Axes>"
            ]
          },
          "metadata": {},
          "output_type": "display_data"
        }
      ],
      "source": [
        "raw_behaviour_train.hist(column = 'ctr_std_away_mean')"
      ]
    },
    {
      "cell_type": "code",
      "execution_count": 216,
      "metadata": {},
      "outputs": [
        {
          "name": "stdout",
          "output_type": "stream",
          "text": [
            "Original table shape: (22034, 13)\n",
            "Filtered table shape: (20817, 13)\n"
          ]
        }
      ],
      "source": [
        "print(\"Original table shape:\",raw_behaviour_train.shape)\n",
        "print(\"Filtered table shape:\",raw_behaviour_train_filtered.shape)"
      ]
    },
    {
      "attachments": {},
      "cell_type": "markdown",
      "metadata": {},
      "source": [
        "# Process Validation Behaviors dataset:"
      ]
    },
    {
      "cell_type": "code",
      "execution_count": 225,
      "metadata": {},
      "outputs": [],
      "source": [
        "raw_behaviour_val['noclicks'], raw_behaviour_val['click'],raw_behaviour_val['num_impressions'],raw_behaviour_val['num_clicks'],raw_behaviour_val['num_noclicks'] = zip(*raw_behaviour_val['impressions'].map(process_impression))\n",
        "# We can then indexize these two new columns:\n",
        "raw_behaviour_val['noclicks'] = raw_behaviour_val['noclicks'].map(lambda list_of_strings: [item2ind.get(l, 0) for l in list_of_strings])\n",
        "raw_behaviour_val['click'] = raw_behaviour_val['click'].map(lambda x: item2ind.get(x,0))\n",
        "\n",
        "### Calculate click through rate:\n",
        "raw_behaviour_val['ctr'] = (raw_behaviour_val['num_clicks']/raw_behaviour_val['num_impressions']).apply(lambda x: round(x, 2))"
      ]
    },
    {
      "cell_type": "code",
      "execution_count": 226,
      "metadata": {},
      "outputs": [
        {
          "data": {
            "text/html": [
              "<div>\n",
              "<style scoped>\n",
              "    .dataframe tbody tr th:only-of-type {\n",
              "        vertical-align: middle;\n",
              "    }\n",
              "\n",
              "    .dataframe tbody tr th {\n",
              "        vertical-align: top;\n",
              "    }\n",
              "\n",
              "    .dataframe thead th {\n",
              "        text-align: right;\n",
              "    }\n",
              "</style>\n",
              "<table border=\"1\" class=\"dataframe\">\n",
              "  <thead>\n",
              "    <tr style=\"text-align: right;\">\n",
              "      <th></th>\n",
              "      <th>impression_id</th>\n",
              "      <th>user_id</th>\n",
              "      <th>time</th>\n",
              "      <th>history</th>\n",
              "      <th>impressions</th>\n",
              "      <th>noclicks</th>\n",
              "      <th>click</th>\n",
              "      <th>num_impressions</th>\n",
              "      <th>num_clicks</th>\n",
              "      <th>num_noclicks</th>\n",
              "      <th>ctr</th>\n",
              "    </tr>\n",
              "  </thead>\n",
              "  <tbody>\n",
              "    <tr>\n",
              "      <th>0</th>\n",
              "      <td>1</td>\n",
              "      <td>U41827</td>\n",
              "      <td>11/15/2019 2:41:03 PM</td>\n",
              "      <td>N15366 N12202 N27489 N19773 N21134 N18191 N686...</td>\n",
              "      <td>N23699-0 N21291-0 N1901-0 N27292-0 N17443-0 N1...</td>\n",
              "      <td>[0, 0, 0, 0, 14735, 0, 17007, 3135, 0, 0, 0, 0...</td>\n",
              "      <td>0</td>\n",
              "      <td>28</td>\n",
              "      <td>1</td>\n",
              "      <td>27</td>\n",
              "      <td>0.04</td>\n",
              "    </tr>\n",
              "    <tr>\n",
              "      <th>1</th>\n",
              "      <td>2</td>\n",
              "      <td>U61881</td>\n",
              "      <td>11/15/2019 10:31:42 AM</td>\n",
              "      <td>N16469 N4202 N4202 N21816 N12992 N24242 N7366 ...</td>\n",
              "      <td>N26916-0 N4641-0 N25522-0 N14893-0 N19035-0 N3...</td>\n",
              "      <td>[0, 0, 0, 0, 16357, 19582, 0, 0, 18817, 80, 21...</td>\n",
              "      <td>0</td>\n",
              "      <td>61</td>\n",
              "      <td>1</td>\n",
              "      <td>60</td>\n",
              "      <td>0.02</td>\n",
              "    </tr>\n",
              "  </tbody>\n",
              "</table>\n",
              "</div>"
            ],
            "text/plain": [
              "   impression_id user_id                    time  \\\n",
              "0              1  U41827   11/15/2019 2:41:03 PM   \n",
              "1              2  U61881  11/15/2019 10:31:42 AM   \n",
              "\n",
              "                                             history  \\\n",
              "0  N15366 N12202 N27489 N19773 N21134 N18191 N686...   \n",
              "1  N16469 N4202 N4202 N21816 N12992 N24242 N7366 ...   \n",
              "\n",
              "                                         impressions  \\\n",
              "0  N23699-0 N21291-0 N1901-0 N27292-0 N17443-0 N1...   \n",
              "1  N26916-0 N4641-0 N25522-0 N14893-0 N19035-0 N3...   \n",
              "\n",
              "                                            noclicks  click  num_impressions  \\\n",
              "0  [0, 0, 0, 0, 14735, 0, 17007, 3135, 0, 0, 0, 0...      0               28   \n",
              "1  [0, 0, 0, 0, 16357, 19582, 0, 0, 18817, 80, 21...      0               61   \n",
              "\n",
              "   num_clicks  num_noclicks   ctr  \n",
              "0           1            27  0.04  \n",
              "1           1            60  0.02  "
            ]
          },
          "execution_count": 226,
          "metadata": {},
          "output_type": "execute_result"
        }
      ],
      "source": [
        "raw_behaviour_val1=raw_behaviour_val.copy(deep=True)\n",
        "raw_behaviour_val1.head(2)"
      ]
    },
    {
      "cell_type": "code",
      "execution_count": 228,
      "metadata": {},
      "outputs": [],
      "source": [
        "# Filter Training Dataset:\n",
        "raw_behaviour_val1['ctr_std_away_mean'] = ((raw_behaviour_val1.ctr - ctr_mean)/ctr_std)\n",
        "\n",
        "#Then slice to select the rows below a threshold:\n",
        "raw_behaviour_val_filtered=raw_behaviour_val1[raw_behaviour_val1.ctr_std_away_mean < 3]"
      ]
    },
    {
      "cell_type": "code",
      "execution_count": 231,
      "metadata": {},
      "outputs": [
        {
          "data": {
            "text/plain": [
              "array([[<AxesSubplot: title={'center': 'ctr_std_away_mean'}>]],\n",
              "      dtype=object)"
            ]
          },
          "execution_count": 231,
          "metadata": {},
          "output_type": "execute_result"
        },
        {
          "data": {
            "image/png": "[encoded data removed]",
            "text/plain": [
              "<Figure size 640x480 with 1 Axes>"
            ]
          },
          "metadata": {},
          "output_type": "display_data"
        }
      ],
      "source": [
        "raw_behaviour_val1.hist(column = 'ctr_std_away_mean')"
      ]
    },
    {
      "cell_type": "code",
      "execution_count": 229,
      "metadata": {},
      "outputs": [
        {
          "name": "stdout",
          "output_type": "stream",
          "text": [
            "Original val table shape: (7538, 12)\n",
            "Filtered val table shape: (7116, 12)\n"
          ]
        }
      ],
      "source": [
        "print(\"Original val table shape:\",raw_behaviour_val1.shape)\n",
        "print(\"Filtered val table shape:\",raw_behaviour_val_filtered.shape)"
      ]
    },
    {
      "attachments": {},
      "cell_type": "markdown",
      "metadata": {},
      "source": [
        "### Save to file:"
      ]
    },
    {
      "cell_type": "code",
      "execution_count": 230,
      "metadata": {},
      "outputs": [],
      "source": [
        "raw_behaviour_train_filtered.to_csv(\"/home/azureuser/cloudfiles/code/Users/lab164/recommenders/data/filtered_data/valid/behaviour_filtered.tsv\")\n",
        "\n",
        "raw_behaviour_val_filtered.to_csv(\"/home/azureuser/cloudfiles/code/Users/lab164/recommenders/data/filtered_data/valid/behaviour_filtered.tsv\")"
      ]
    },
    {
      "cell_type": "code",
      "execution_count": null,
      "metadata": {},
      "outputs": [],
      "source": []
    },
    {
      "cell_type": "markdown",
      "metadata": {},
      "source": []
    }
  ],
  "metadata": {
    "colab": {
      "provenance": []
    },
    "kernel_info": {
      "name": "python3"
    },
    "kernelspec": {
      "display_name": "jupyter_env",
      "language": "python",
      "name": "python3"
    },
    "language_info": {
      "codemirror_mode": {
        "name": "ipython",
        "version": 3
      },
      "file_extension": ".py",
      "mimetype": "text/x-python",
      "name": "python",
      "nbconvert_exporter": "python",
      "pygments_lexer": "ipython3",
      "version": "3.8.5"
    },
    "nteract": {
      "version": "nteract-front-end@1.0.0"
    },
    "vscode": {
      "interpreter": {
        "hash": "1ffc82101c5eff764050d2685372a31bdf18b27fd6181f429b67cb2396dafb7f"
      }
    }
  },
  "nbformat": 4,
  "nbformat_minor": 0
}
