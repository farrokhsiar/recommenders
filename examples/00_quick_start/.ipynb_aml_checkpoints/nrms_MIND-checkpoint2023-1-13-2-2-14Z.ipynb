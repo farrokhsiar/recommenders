{
  "cells": [
    {
      "cell_type": "markdown",
      "source": [
        "<i>Copyright (c) Microsoft Corporation. All rights reserved.</i>\n",
        "\n",
        "<i>Licensed under the MIT License.</i>"
      ],
      "metadata": {}
    },
    {
      "cell_type": "markdown",
      "source": [
        "# NRMS: Neural News Recommendation with Multi-Head Self-Attention\n",
        "NRMS \\[1\\] is a neural news recommendation approach with multi-head selfattention. The core of NRMS is a news encoder and a user encoder. In the newsencoder, a multi-head self-attentions is used to learn news representations from news titles by modeling the interactions between words. In the user encoder, we learn representations of users from their browsed news and use multihead self-attention to capture the relatedness between the news. Besides, we apply additive\n",
        "attention to learn more informative news and user representations by selecting important words and news.\n",
        "\n",
        "## Properties of NRMS:\n",
        "- NRMS is a content-based neural news recommendation approach.\n",
        "- It uses multi-self attention to learn news representations by modeling the iteractions between words and learn user representations by capturing the relationship between user browsed news.\n",
        "- NRMS uses additive attentions to learn informative news and user representations by selecting important words and news.\n",
        "\n",
        "## Data format:\n",
        "For quicker training and evaluaiton, we sample MINDdemo dataset of 5k users from [MIND small dataset](https://msnews.github.io/). The MINDdemo dataset has the same file format as MINDsmall and MINDlarge. If you want to try experiments on MINDsmall and MINDlarge, please change the dowload source. Select the MIND_type parameter from ['large', 'small', 'demo'] to choose dataset.\n",
        " \n",
        "**MINDdemo_train** is used for training, and **MINDdemo_dev** is used for evaluation. Training data and evaluation data are composed of a news file and a behaviors file. You can find more detailed data description in [MIND repo](https://github.com/msnews/msnews.github.io/blob/master/assets/doc/introduction.md)\n",
        "\n",
        "### news data\n",
        "This file contains news information including newsid, category, subcatgory, news title, news abstarct, news url and entities in news title, entities in news abstarct.\n",
        "One simple example: <br>\n",
        "\n",
        "`N46466\tlifestyle\tlifestyleroyals\tThe Brands Queen Elizabeth, Prince Charles, and Prince Philip Swear By\tShop the notebooks, jackets, and more that the royals can't live without.\thttps://www.msn.com/en-us/lifestyle/lifestyleroyals/the-brands-queen-elizabeth,-prince-charles,-and-prince-philip-swear-by/ss-AAGH0ET?ocid=chopendata\t[{\"Label\": \"Prince Philip, Duke of Edinburgh\", \"Type\": \"P\", \"WikidataId\": \"Q80976\", \"Confidence\": 1.0, \"OccurrenceOffsets\": [48], \"SurfaceForms\": [\"Prince Philip\"]}, {\"Label\": \"Charles, Prince of Wales\", \"Type\": \"P\", \"WikidataId\": \"Q43274\", \"Confidence\": 1.0, \"OccurrenceOffsets\": [28], \"SurfaceForms\": [\"Prince Charles\"]}, {\"Label\": \"Elizabeth II\", \"Type\": \"P\", \"WikidataId\": \"Q9682\", \"Confidence\": 0.97, \"OccurrenceOffsets\": [11], \"SurfaceForms\": [\"Queen Elizabeth\"]}]\t[]`\n",
        "<br>\n",
        "\n",
        "In general, each line in data file represents information of one piece of news: <br>\n",
        "\n",
        "`[News ID] [Category] [Subcategory] [News Title] [News Abstrct] [News Url] [Entities in News Title] [Entities in News Abstract] ...`\n",
        "\n",
        "<br>\n",
        "\n",
        "We generate a word_dict file to transform words in news title to word indexes, and a embedding matrix is initted from pretrained glove embeddings.\n",
        "\n",
        "### behaviors data\n",
        "One simple example: <br>\n",
        "`1\tU82271\t11/11/2019 3:28:58 PM\tN3130 N11621 N12917 N4574 N12140 N9748\tN13390-0 N7180-0 N20785-0 N6937-0 N15776-0 N25810-0 N20820-0 N6885-0 N27294-0 N18835-0 N16945-0 N7410-0 N23967-0 N22679-0 N20532-0 N26651-0 N22078-0 N4098-0 N16473-0 N13841-0 N15660-0 N25787-0 N2315-0 N1615-0 N9087-0 N23880-0 N3600-0 N24479-0 N22882-0 N26308-0 N13594-0 N2220-0 N28356-0 N17083-0 N21415-0 N18671-0 N9440-0 N17759-0 N10861-0 N21830-0 N8064-0 N5675-0 N15037-0 N26154-0 N15368-1 N481-0 N3256-0 N20663-0 N23940-0 N7654-0 N10729-0 N7090-0 N23596-0 N15901-0 N16348-0 N13645-0 N8124-0 N20094-0 N27774-0 N23011-0 N14832-0 N15971-0 N27729-0 N2167-0 N11186-0 N18390-0 N21328-0 N10992-0 N20122-0 N1958-0 N2004-0 N26156-0 N17632-0 N26146-0 N17322-0 N18403-0 N17397-0 N18215-0 N14475-0 N9781-0 N17958-0 N3370-0 N1127-0 N15525-0 N12657-0 N10537-0 N18224-0`\n",
        "<br>\n",
        "\n",
        "In general, each line in data file represents one instance of an impression. The format is like: <br>\n",
        "\n",
        "`[Impression ID] [User ID] [Impression Time] [User Click History] [Impression News]`\n",
        "\n",
        "<br>\n",
        "\n",
        "User Click History is the user historical clicked news before Impression Time. Impression News is the displayed news in an impression, which format is:<br>\n",
        "\n",
        "`[News ID 1]-[label1] ... [News ID n]-[labeln]`\n",
        "\n",
        "<br>\n",
        "Label represents whether the news is clicked by the user. All information of news in User Click History and Impression News can be found in news data file."
      ],
      "metadata": {}
    },
    {
      "cell_type": "markdown",
      "source": [
        "## Global settings and imports"
      ],
      "metadata": {}
    },
    {
      "cell_type": "code",
      "source": [
        "pip install scrapbook"
      ],
      "outputs": [
        {
          "output_type": "stream",
          "name": "stdout",
          "text": "Collecting scrapbook\n  Downloading scrapbook-0.5.0-py3-none-any.whl (34 kB)\nCollecting papermill\n  Downloading papermill-2.4.0-py3-none-any.whl (38 kB)\nRequirement already satisfied: jsonschema in /anaconda/envs/jupyter_env/lib/python3.8/site-packages (from scrapbook) (4.17.3)\nRequirement already satisfied: ipython in /anaconda/envs/jupyter_env/lib/python3.8/site-packages (from scrapbook) (8.8.0)\nRequirement already satisfied: pandas in /anaconda/envs/jupyter_env/lib/python3.8/site-packages (from scrapbook) (1.5.3)\nCollecting pyarrow\n  Downloading pyarrow-11.0.0-cp38-cp38-manylinux_2_17_x86_64.manylinux2014_x86_64.whl (35.0 MB)\n\u001b[2K     \u001b[90m━━━━━━━━━━━━━━━━━━━━━━━━━━━━━━━━━━━━━━━━\u001b[0m \u001b[32m35.0/35.0 MB\u001b[0m \u001b[31m29.6 MB/s\u001b[0m eta \u001b[36m0:00:00\u001b[0m00:01\u001b[0m00:01\u001b[0m\n\u001b[?25hRequirement already satisfied: jedi>=0.16 in /anaconda/envs/jupyter_env/lib/python3.8/site-packages (from ipython->scrapbook) (0.18.2)\nRequirement already satisfied: pygments>=2.4.0 in /anaconda/envs/jupyter_env/lib/python3.8/site-packages (from ipython->scrapbook) (2.14.0)\nRequirement already satisfied: prompt-toolkit<3.1.0,>=3.0.11 in /anaconda/envs/jupyter_env/lib/python3.8/site-packages (from ipython->scrapbook) (3.0.36)\nRequirement already satisfied: stack-data in /anaconda/envs/jupyter_env/lib/python3.8/site-packages (from ipython->scrapbook) (0.6.2)\nRequirement already satisfied: pexpect>4.3 in /anaconda/envs/jupyter_env/lib/python3.8/site-packages (from ipython->scrapbook) (4.8.0)\nRequirement already satisfied: traitlets>=5 in /anaconda/envs/jupyter_env/lib/python3.8/site-packages (from ipython->scrapbook) (5.8.1)\nRequirement already satisfied: pickleshare in /anaconda/envs/jupyter_env/lib/python3.8/site-packages (from ipython->scrapbook) (0.7.5)\nRequirement already satisfied: decorator in /anaconda/envs/jupyter_env/lib/python3.8/site-packages (from ipython->scrapbook) (5.1.1)\nRequirement already satisfied: matplotlib-inline in /anaconda/envs/jupyter_env/lib/python3.8/site-packages (from ipython->scrapbook) (0.1.6)\nRequirement already satisfied: backcall in /anaconda/envs/jupyter_env/lib/python3.8/site-packages (from ipython->scrapbook) (0.2.0)\nRequirement already satisfied: importlib-resources>=1.4.0 in /anaconda/envs/jupyter_env/lib/python3.8/site-packages (from jsonschema->scrapbook) (5.10.2)\nRequirement already satisfied: pyrsistent!=0.17.0,!=0.17.1,!=0.17.2,>=0.14.0 in /anaconda/envs/jupyter_env/lib/python3.8/site-packages (from jsonschema->scrapbook) (0.19.3)\nRequirement already satisfied: attrs>=17.4.0 in /anaconda/envs/jupyter_env/lib/python3.8/site-packages (from jsonschema->scrapbook) (22.2.0)\nRequirement already satisfied: pkgutil-resolve-name>=1.3.10 in /anaconda/envs/jupyter_env/lib/python3.8/site-packages (from jsonschema->scrapbook) (1.3.10)\nRequirement already satisfied: pytz>=2020.1 in /anaconda/envs/jupyter_env/lib/python3.8/site-packages (from pandas->scrapbook) (2022.5)\nRequirement already satisfied: python-dateutil>=2.8.1 in /anaconda/envs/jupyter_env/lib/python3.8/site-packages (from pandas->scrapbook) (2.8.2)\nRequirement already satisfied: numpy>=1.20.3 in /anaconda/envs/jupyter_env/lib/python3.8/site-packages (from pandas->scrapbook) (1.23.5)\nCollecting tenacity\n  Downloading tenacity-8.2.1-py3-none-any.whl (24 kB)\nRequirement already satisfied: nbformat>=5.1.2 in /anaconda/envs/jupyter_env/lib/python3.8/site-packages (from papermill->scrapbook) (5.7.3)\nRequirement already satisfied: click in /anaconda/envs/jupyter_env/lib/python3.8/site-packages (from papermill->scrapbook) (8.1.3)\nRequirement already satisfied: entrypoints in /anaconda/envs/jupyter_env/lib/python3.8/site-packages (from papermill->scrapbook) (0.4)\nRequirement already satisfied: requests in /anaconda/envs/jupyter_env/lib/python3.8/site-packages (from papermill->scrapbook) (2.28.2)\nCollecting ansiwrap\n  Downloading ansiwrap-0.8.4-py2.py3-none-any.whl (8.5 kB)\nRequirement already satisfied: nbclient>=0.2.0 in /anaconda/envs/jupyter_env/lib/python3.8/site-packages (from papermill->scrapbook) (0.5.13)\nRequirement already satisfied: pyyaml in /anaconda/envs/jupyter_env/lib/python3.8/site-packages (from papermill->scrapbook) (6.0)\nRequirement already satisfied: tqdm>=4.32.2 in /anaconda/envs/jupyter_env/lib/python3.8/site-packages/tqdm-4.64.1-py3.8.egg (from papermill->scrapbook) (4.64.1)\nRequirement already satisfied: zipp>=3.1.0 in /anaconda/envs/jupyter_env/lib/python3.8/site-packages (from importlib-resources>=1.4.0->jsonschema->scrapbook) (3.11.0)\nRequirement already satisfied: parso<0.9.0,>=0.8.0 in /anaconda/envs/jupyter_env/lib/python3.8/site-packages (from jedi>=0.16->ipython->scrapbook) (0.8.3)\nRequirement already satisfied: jupyter-client>=6.1.5 in /anaconda/envs/jupyter_env/lib/python3.8/site-packages (from nbclient>=0.2.0->papermill->scrapbook) (7.4.9)\nRequirement already satisfied: nest-asyncio in /anaconda/envs/jupyter_env/lib/python3.8/site-packages (from nbclient>=0.2.0->papermill->scrapbook) (1.5.6)\nRequirement already satisfied: jupyter-core in /anaconda/envs/jupyter_env/lib/python3.8/site-packages (from nbformat>=5.1.2->papermill->scrapbook) (4.11.2)\nRequirement already satisfied: fastjsonschema in /anaconda/envs/jupyter_env/lib/python3.8/site-packages (from nbformat>=5.1.2->papermill->scrapbook) (2.16.2)\nRequirement already satisfied: ptyprocess>=0.5 in /anaconda/envs/jupyter_env/lib/python3.8/site-packages (from pexpect>4.3->ipython->scrapbook) (0.7.0)\nRequirement already satisfied: wcwidth in /anaconda/envs/jupyter_env/lib/python3.8/site-packages (from prompt-toolkit<3.1.0,>=3.0.11->ipython->scrapbook) (0.2.6)\nRequirement already satisfied: six>=1.5 in /anaconda/envs/jupyter_env/lib/python3.8/site-packages (from python-dateutil>=2.8.1->pandas->scrapbook) (1.16.0)\nCollecting textwrap3>=0.9.2\n  Downloading textwrap3-0.9.2-py2.py3-none-any.whl (12 kB)\nRequirement already satisfied: urllib3<1.27,>=1.21.1 in /anaconda/envs/jupyter_env/lib/python3.8/site-packages (from requests->papermill->scrapbook) (1.26.14)\nRequirement already satisfied: certifi>=2017.4.17 in /anaconda/envs/jupyter_env/lib/python3.8/site-packages (from requests->papermill->scrapbook) (2022.12.7)\nRequirement already satisfied: charset-normalizer<4,>=2 in /anaconda/envs/jupyter_env/lib/python3.8/site-packages (from requests->papermill->scrapbook) (2.1.1)\nRequirement already satisfied: idna<4,>=2.5 in /anaconda/envs/jupyter_env/lib/python3.8/site-packages (from requests->papermill->scrapbook) (3.4)\nRequirement already satisfied: executing>=1.2.0 in /anaconda/envs/jupyter_env/lib/python3.8/site-packages (from stack-data->ipython->scrapbook) (1.2.0)\nRequirement already satisfied: asttokens>=2.1.0 in /anaconda/envs/jupyter_env/lib/python3.8/site-packages (from stack-data->ipython->scrapbook) (2.2.1)\nRequirement already satisfied: pure-eval in /anaconda/envs/jupyter_env/lib/python3.8/site-packages (from stack-data->ipython->scrapbook) (0.2.2)\nRequirement already satisfied: tornado>=6.2 in /anaconda/envs/jupyter_env/lib/python3.8/site-packages (from jupyter-client>=6.1.5->nbclient>=0.2.0->papermill->scrapbook) (6.2)\nRequirement already satisfied: pyzmq>=23.0 in /anaconda/envs/jupyter_env/lib/python3.8/site-packages (from jupyter-client>=6.1.5->nbclient>=0.2.0->papermill->scrapbook) (25.0.0)\nInstalling collected packages: textwrap3, tenacity, pyarrow, ansiwrap, papermill, scrapbook\nSuccessfully installed ansiwrap-0.8.4 papermill-2.4.0 pyarrow-11.0.0 scrapbook-0.5.0 tenacity-8.2.1 textwrap3-0.9.2\nNote: you may need to restart the kernel to use updated packages.\n"
        }
      ],
      "execution_count": 4,
      "metadata": {
        "jupyter": {
          "source_hidden": false,
          "outputs_hidden": false
        },
        "nteract": {
          "transient": {
            "deleting": false
          }
        },
        "gather": {
          "logged": 1676232191165
        }
      }
    },
    {
      "cell_type": "code",
      "source": [
        "import sys\n",
        "import os\n",
        "import numpy as np\n",
        "import zipfile\n",
        "from tqdm import tqdm\n",
        "import scrapbook as sb\n",
        "from tempfile import TemporaryDirectory\n",
        "import tensorflow as tf\n",
        "tf.get_logger().setLevel('ERROR') # only show error messages\n",
        "\n",
        "from recommenders.models.deeprec.deeprec_utils import download_deeprec_resources \n",
        "from recommenders.models.newsrec.newsrec_utils import prepare_hparams\n",
        "from recommenders.models.newsrec.models.nrms import NRMSModel\n",
        "from recommenders.models.newsrec.io.mind_iterator import MINDIterator\n",
        "from recommenders.models.newsrec.newsrec_utils import get_mind_data_set\n",
        "\n",
        "print(\"System version: {}\".format(sys.version))\n",
        "print(\"Tensorflow version: {}\".format(tf.__version__))\n"
      ],
      "outputs": [
        {
          "output_type": "error",
          "ename": "ModuleNotFoundError",
          "evalue": "No module named 'tensorflow'",
          "traceback": [
            "\u001b[0;31m---------------------------------------------------------------------------\u001b[0m",
            "\u001b[0;31mModuleNotFoundError\u001b[0m                       Traceback (most recent call last)",
            "Cell \u001b[0;32mIn[5], line 8\u001b[0m\n\u001b[1;32m      6\u001b[0m \u001b[38;5;28;01mimport\u001b[39;00m \u001b[38;5;21;01mscrapbook\u001b[39;00m \u001b[38;5;28;01mas\u001b[39;00m \u001b[38;5;21;01msb\u001b[39;00m\n\u001b[1;32m      7\u001b[0m \u001b[38;5;28;01mfrom\u001b[39;00m \u001b[38;5;21;01mtempfile\u001b[39;00m \u001b[38;5;28;01mimport\u001b[39;00m TemporaryDirectory\n\u001b[0;32m----> 8\u001b[0m \u001b[38;5;28;01mimport\u001b[39;00m \u001b[38;5;21;01mtensorflow\u001b[39;00m \u001b[38;5;28;01mas\u001b[39;00m \u001b[38;5;21;01mtf\u001b[39;00m\n\u001b[1;32m      9\u001b[0m tf\u001b[38;5;241m.\u001b[39mget_logger()\u001b[38;5;241m.\u001b[39msetLevel(\u001b[38;5;124m'\u001b[39m\u001b[38;5;124mERROR\u001b[39m\u001b[38;5;124m'\u001b[39m) \u001b[38;5;66;03m# only show error messages\u001b[39;00m\n\u001b[1;32m     11\u001b[0m \u001b[38;5;28;01mfrom\u001b[39;00m \u001b[38;5;21;01mrecommenders\u001b[39;00m\u001b[38;5;21;01m.\u001b[39;00m\u001b[38;5;21;01mmodels\u001b[39;00m\u001b[38;5;21;01m.\u001b[39;00m\u001b[38;5;21;01mdeeprec\u001b[39;00m\u001b[38;5;21;01m.\u001b[39;00m\u001b[38;5;21;01mdeeprec_utils\u001b[39;00m \u001b[38;5;28;01mimport\u001b[39;00m download_deeprec_resources \n",
            "\u001b[0;31mModuleNotFoundError\u001b[0m: No module named 'tensorflow'"
          ]
        }
      ],
      "execution_count": 5,
      "metadata": {
        "scrolled": false,
        "gather": {
          "logged": 1676245090404
        }
      }
    },
    {
      "cell_type": "markdown",
      "source": [
        "## Prepare parameters"
      ],
      "metadata": {}
    },
    {
      "cell_type": "code",
      "source": [
        "epochs = 5\n",
        "seed = 42\n",
        "batch_size = 32\n",
        "\n",
        "# Options: demo, small, large\n",
        "MIND_type = 'demo'"
      ],
      "outputs": [],
      "execution_count": 2,
      "metadata": {
        "tags": [
          "parameters"
        ]
      }
    },
    {
      "cell_type": "markdown",
      "source": [
        "## Download and load data"
      ],
      "metadata": {}
    },
    {
      "cell_type": "code",
      "source": [
        "tmpdir = TemporaryDirectory()\n",
        "data_path = tmpdir.name\n",
        "\n",
        "train_news_file = os.path.join(data_path, 'train', r'news.tsv')\n",
        "train_behaviors_file = os.path.join(data_path, 'train', r'behaviors.tsv')\n",
        "valid_news_file = os.path.join(data_path, 'valid', r'news.tsv')\n",
        "valid_behaviors_file = os.path.join(data_path, 'valid', r'behaviors.tsv')\n",
        "wordEmb_file = os.path.join(data_path, \"utils\", \"embedding.npy\")\n",
        "userDict_file = os.path.join(data_path, \"utils\", \"uid2index.pkl\")\n",
        "wordDict_file = os.path.join(data_path, \"utils\", \"word_dict.pkl\")\n",
        "yaml_file = os.path.join(data_path, \"utils\", r'nrms.yaml')\n",
        "\n",
        "mind_url, mind_train_dataset, mind_dev_dataset, mind_utils = get_mind_data_set(MIND_type)\n",
        "\n",
        "if not os.path.exists(train_news_file):\n",
        "    download_deeprec_resources(mind_url, os.path.join(data_path, 'train'), mind_train_dataset)\n",
        "    \n",
        "if not os.path.exists(valid_news_file):\n",
        "    download_deeprec_resources(mind_url, \\\n",
        "                               os.path.join(data_path, 'valid'), mind_dev_dataset)\n",
        "if not os.path.exists(yaml_file):\n",
        "    download_deeprec_resources(r'https://recodatasets.z20.web.core.windows.net/newsrec/', \\\n",
        "                               os.path.join(data_path, 'utils'), mind_utils)"
      ],
      "outputs": [
        {
          "output_type": "stream",
          "name": "stderr",
          "text": "100%|██████████| 17.0k/17.0k [00:01<00:00, 9.65kKB/s]\n100%|██████████| 9.84k/9.84k [00:01<00:00, 8.93kKB/s]\n100%|██████████| 95.0k/95.0k [00:08<00:00, 11.0kKB/s]\n"
        }
      ],
      "execution_count": 3,
      "metadata": {}
    },
    {
      "cell_type": "markdown",
      "source": [
        "## Create hyper-parameters"
      ],
      "metadata": {}
    },
    {
      "cell_type": "code",
      "source": [
        "hparams = prepare_hparams(yaml_file, \n",
        "                          wordEmb_file=wordEmb_file,\n",
        "                          wordDict_file=wordDict_file, \n",
        "                          userDict_file=userDict_file,\n",
        "                          batch_size=batch_size,\n",
        "                          epochs=epochs,\n",
        "                          show_step=10)\n",
        "print(hparams)"
      ],
      "outputs": [
        {
          "output_type": "stream",
          "name": "stdout",
          "text": "data_format=news,iterator_type=None,support_quick_scoring=True,wordEmb_file=/tmp/tmp1z4450vf/utils/embedding.npy,wordDict_file=/tmp/tmp1z4450vf/utils/word_dict.pkl,userDict_file=/tmp/tmp1z4450vf/utils/uid2index.pkl,vertDict_file=None,subvertDict_file=None,title_size=30,body_size=None,word_emb_dim=300,word_size=None,user_num=None,vert_num=None,subvert_num=None,his_size=50,npratio=4,dropout=0.2,attention_hidden_dim=200,head_num=20,head_dim=20,cnn_activation=None,dense_activation=None,filter_num=200,window_size=3,vert_emb_dim=100,subvert_emb_dim=100,gru_unit=400,type=ini,user_emb_dim=50,learning_rate=0.0001,loss=cross_entropy_loss,optimizer=adam,epochs=5,batch_size=32,show_step=10,metrics=['group_auc', 'mean_mrr', 'ndcg@5;10']\n"
        }
      ],
      "execution_count": 4,
      "metadata": {}
    },
    {
      "cell_type": "markdown",
      "source": [
        "## Train the NRMS model"
      ],
      "metadata": {}
    },
    {
      "cell_type": "code",
      "source": [
        "iterator = MINDIterator"
      ],
      "outputs": [],
      "execution_count": 5,
      "metadata": {}
    },
    {
      "cell_type": "code",
      "source": [
        "model = NRMSModel(hparams, iterator, seed=seed)"
      ],
      "outputs": [],
      "execution_count": 6,
      "metadata": {
        "scrolled": true
      }
    },
    {
      "cell_type": "code",
      "source": [
        "print(model.run_eval(valid_news_file, valid_behaviors_file))"
      ],
      "outputs": [
        {
          "output_type": "stream",
          "name": "stderr",
          "text": "586it [00:02, 238.86it/s]\n236it [00:04, 57.82it/s]\n7538it [00:01, 6381.66it/s]\n"
        },
        {
          "output_type": "stream",
          "name": "stdout",
          "text": "{'group_auc': 0.4792, 'mean_mrr': 0.2059, 'ndcg@5': 0.2045, 'ndcg@10': 0.2701}\n"
        }
      ],
      "execution_count": 7,
      "metadata": {}
    },
    {
      "cell_type": "code",
      "source": [
        "%%time\n",
        "model.fit(train_news_file, train_behaviors_file, valid_news_file, valid_behaviors_file)"
      ],
      "outputs": [
        {
          "output_type": "stream",
          "name": "stderr",
          "text": "step 1080 , total_loss: 1.5155, data_loss: 1.4078: : 1086it [01:07, 16.10it/s]\n586it [00:01, 388.70it/s]\n236it [00:03, 68.28it/s]\n7538it [00:00, 7543.81it/s]\n2it [00:00, 16.78it/s]"
        },
        {
          "output_type": "stream",
          "name": "stdout",
          "text": "at epoch 1\ntrain info: logloss loss:1.5149870059327746\neval info: group_auc:0.5755, mean_mrr:0.2453, ndcg@10:0.3313, ndcg@5:0.2587\nat epoch 1 , train time: 67.4 eval time: 13.3\n"
        },
        {
          "output_type": "stream",
          "name": "stderr",
          "text": "step 1080 , total_loss: 1.4203, data_loss: 1.3752: : 1086it [01:04, 16.93it/s]\n586it [00:01, 412.04it/s]\n236it [00:03, 67.25it/s]\n7538it [00:00, 9040.56it/s]\n2it [00:00, 16.90it/s]"
        },
        {
          "output_type": "stream",
          "name": "stdout",
          "text": "at epoch 2\ntrain info: logloss loss:1.4203101933331779\neval info: group_auc:0.5995, mean_mrr:0.2572, ndcg@10:0.3482, ndcg@5:0.273\nat epoch 2 , train time: 64.2 eval time: 13.0\n"
        },
        {
          "output_type": "stream",
          "name": "stderr",
          "text": "step 1080 , total_loss: 1.3770, data_loss: 1.2186: : 1086it [01:05, 16.49it/s]\n586it [00:01, 401.41it/s]\n236it [00:03, 65.66it/s]\n7538it [00:00, 7954.16it/s]\n2it [00:00, 16.66it/s]"
        },
        {
          "output_type": "stream",
          "name": "stdout",
          "text": "at epoch 3\ntrain info: logloss loss:1.3768525854658686\neval info: group_auc:0.6032, mean_mrr:0.2632, ndcg@10:0.3535, ndcg@5:0.2817\nat epoch 3 , train time: 65.9 eval time: 13.3\n"
        },
        {
          "output_type": "stream",
          "name": "stderr",
          "text": "step 1080 , total_loss: 1.3516, data_loss: 1.2423: : 1086it [01:06, 16.39it/s]\n586it [00:01, 390.04it/s]\n236it [00:03, 64.53it/s]\n7538it [00:01, 5913.76it/s]\n2it [00:00, 16.68it/s]"
        },
        {
          "output_type": "stream",
          "name": "stdout",
          "text": "at epoch 4\ntrain info: logloss loss:1.3515781479755598\neval info: group_auc:0.6107, mean_mrr:0.2662, ndcg@10:0.3577, ndcg@5:0.2857\nat epoch 4 , train time: 66.2 eval time: 13.8\n"
        },
        {
          "output_type": "stream",
          "name": "stderr",
          "text": "step 1080 , total_loss: 1.3297, data_loss: 1.2343: : 1086it [01:06, 16.37it/s]\n586it [00:01, 391.49it/s]\n236it [00:03, 64.32it/s]\n7538it [00:00, 7717.24it/s]\n"
        },
        {
          "output_type": "stream",
          "name": "stdout",
          "text": "at epoch 5\ntrain info: logloss loss:1.330019418157047\neval info: group_auc:0.6127, mean_mrr:0.2697, ndcg@10:0.3625, ndcg@5:0.2912\nat epoch 5 , train time: 66.3 eval time: 14.2\nCPU times: user 8min 12s, sys: 15.5 s, total: 8min 27s\nWall time: 6min 37s\n"
        },
        {
          "output_type": "execute_result",
          "execution_count": 8,
          "data": {
            "text/plain": "<recommenders.models.newsrec.models.nrms.NRMSModel at 0x7f14d45b5a58>"
          },
          "metadata": {}
        }
      ],
      "execution_count": 8,
      "metadata": {}
    },
    {
      "cell_type": "code",
      "source": [
        "%%time\n",
        "res_syn = model.run_eval(valid_news_file, valid_behaviors_file)\n",
        "print(res_syn)\n"
      ],
      "outputs": [
        {
          "output_type": "stream",
          "name": "stderr",
          "text": "586it [00:01, 396.35it/s]\n236it [00:03, 67.56it/s]\n7538it [00:01, 6017.89it/s]\n"
        },
        {
          "output_type": "stream",
          "name": "stdout",
          "text": "{'group_auc': 0.6127, 'mean_mrr': 0.2697, 'ndcg@5': 0.2912, 'ndcg@10': 0.3625}\nCPU times: user 29.8 s, sys: 1.27 s, total: 31.1 s\nWall time: 14.3 s\n"
        }
      ],
      "execution_count": 9,
      "metadata": {}
    },
    {
      "cell_type": "code",
      "source": [
        "sb.glue(\"res_syn\", res_syn)"
      ],
      "outputs": [],
      "execution_count": null,
      "metadata": {}
    },
    {
      "cell_type": "markdown",
      "source": [
        "## Save the model"
      ],
      "metadata": {}
    },
    {
      "cell_type": "code",
      "source": [
        "model_path = os.path.join(data_path, \"model\")\n",
        "os.makedirs(model_path, exist_ok=True)\n",
        "\n",
        "model.model.save_weights(os.path.join(model_path, \"nrms_ckpt\"))"
      ],
      "outputs": [],
      "execution_count": 11,
      "metadata": {}
    },
    {
      "cell_type": "markdown",
      "source": [
        "## Output Predcition File\n",
        "This code segment is used to generate the prediction.zip file, which is in the same format in [MIND Competition Submission Tutorial](https://competitions.codalab.org/competitions/24122#learn_the_details-submission-guidelines).\n",
        "\n",
        "Please change the `MIND_type` parameter to `large` if you want to submit your prediction to [MIND Competition](https://msnews.github.io/competition.html)."
      ],
      "metadata": {}
    },
    {
      "cell_type": "code",
      "source": [
        "group_impr_indexes, group_labels, group_preds = model.run_fast_eval(valid_news_file, valid_behaviors_file)"
      ],
      "outputs": [
        {
          "output_type": "stream",
          "name": "stderr",
          "text": "586it [00:01, 399.64it/s]\n236it [00:03, 67.94it/s]\n7538it [00:00, 8052.34it/s]\n"
        }
      ],
      "execution_count": 12,
      "metadata": {}
    },
    {
      "cell_type": "code",
      "source": [
        "with open(os.path.join(data_path, 'prediction.txt'), 'w') as f:\n",
        "    for impr_index, preds in tqdm(zip(group_impr_indexes, group_preds)):\n",
        "        impr_index += 1\n",
        "        pred_rank = (np.argsort(np.argsort(preds)[::-1]) + 1).tolist()\n",
        "        pred_rank = '[' + ','.join([str(i) for i in pred_rank]) + ']'\n",
        "        f.write(' '.join([str(impr_index), pred_rank])+ '\\n')"
      ],
      "outputs": [
        {
          "output_type": "stream",
          "name": "stderr",
          "text": "7538it [00:00, 35200.73it/s]\n"
        }
      ],
      "execution_count": 13,
      "metadata": {}
    },
    {
      "cell_type": "code",
      "source": [
        "f = zipfile.ZipFile(os.path.join(data_path, 'prediction.zip'), 'w', zipfile.ZIP_DEFLATED)\n",
        "f.write(os.path.join(data_path, 'prediction.txt'), arcname='prediction.txt')\n",
        "f.close()"
      ],
      "outputs": [],
      "execution_count": 14,
      "metadata": {}
    },
    {
      "cell_type": "markdown",
      "source": [
        "## Reference\n",
        "\\[1\\] Wu et al. \"Neural News Recommendation with Multi-Head Self-Attention.\" in Proceedings of the 2019 Conference on Empirical Methods in Natural Language Processing and the 9th International Joint Conference on Natural Language Processing (EMNLP-IJCNLP)<br>\n",
        "\\[2\\] Wu, Fangzhao, et al. \"MIND: A Large-scale Dataset for News Recommendation\" Proceedings of the 58th Annual Meeting of the Association for Computational Linguistics. https://msnews.github.io/competition.html <br>\n",
        "\\[3\\] GloVe: Global Vectors for Word Representation. https://nlp.stanford.edu/projects/glove/"
      ],
      "metadata": {}
    }
  ],
  "metadata": {
    "celltoolbar": "Tags",
    "interpreter": {
      "hash": "3a9a0c422ff9f08d62211b9648017c63b0a26d2c935edc37ebb8453675d13bb5"
    },
    "kernelspec": {
      "name": "python3",
      "language": "python",
      "display_name": "Python 3 (ipykernel)"
    },
    "language_info": {
      "name": "python",
      "version": "3.8.5",
      "mimetype": "text/x-python",
      "codemirror_mode": {
        "name": "ipython",
        "version": 3
      },
      "pygments_lexer": "ipython3",
      "nbconvert_exporter": "python",
      "file_extension": ".py"
    },
    "kernel_info": {
      "name": "python3"
    },
    "nteract": {
      "version": "nteract-front-end@1.0.0"
    }
  },
  "nbformat": 4,
  "nbformat_minor": 4
}